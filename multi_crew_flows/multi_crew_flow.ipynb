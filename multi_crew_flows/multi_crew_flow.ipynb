{
 "cells": [
  {
   "cell_type": "markdown",
   "id": "ad322e91-9a88-490e-aa59-a1ad7f9fca2b",
   "metadata": {},
   "source": [
    "# Recap"
   ]
  },
  {
   "cell_type": "markdown",
   "id": "0c28e00d-f25a-4c88-8493-3b62e8de951a",
   "metadata": {},
   "source": [
    "## Control Flow"
   ]
  },
  {
   "cell_type": "code",
   "execution_count": 1,
   "id": "5115e428-3422-4666-a6e0-bdd13ab61e5e",
   "metadata": {},
   "outputs": [
    {
     "data": {
      "text/html": [
       "<pre style=\"white-space:pre;overflow-x:auto;line-height:normal;font-family:Menlo,'DejaVu Sans Mono',consolas,'Courier New',monospace\"><span style=\"color: #000080; text-decoration-color: #000080\">╭──────────────────────────────────────────────── Flow Execution ─────────────────────────────────────────────────╮</span>\n",
       "<span style=\"color: #000080; text-decoration-color: #000080\">│</span>                                                                                                                 <span style=\"color: #000080; text-decoration-color: #000080\">│</span>\n",
       "<span style=\"color: #000080; text-decoration-color: #000080\">│</span>  <span style=\"color: #000080; text-decoration-color: #000080; font-weight: bold\">Starting Flow Execution</span>                                                                                        <span style=\"color: #000080; text-decoration-color: #000080\">│</span>\n",
       "<span style=\"color: #000080; text-decoration-color: #000080\">│</span>  <span style=\"color: #c0c0c0; text-decoration-color: #c0c0c0\">Name: </span><span style=\"color: #000080; text-decoration-color: #000080\">SimpleFlow</span>                                                                                               <span style=\"color: #000080; text-decoration-color: #000080\">│</span>\n",
       "<span style=\"color: #000080; text-decoration-color: #000080\">│</span>  <span style=\"color: #c0c0c0; text-decoration-color: #c0c0c0\">ID: </span><span style=\"color: #000080; text-decoration-color: #000080\">9d2d9f20-19f9-4b3d-8706-1c417de1b4ad</span>                                                                       <span style=\"color: #000080; text-decoration-color: #000080\">│</span>\n",
       "<span style=\"color: #000080; text-decoration-color: #000080\">│</span>                                                                                                                 <span style=\"color: #000080; text-decoration-color: #000080\">│</span>\n",
       "<span style=\"color: #000080; text-decoration-color: #000080\">│</span>                                                                                                                 <span style=\"color: #000080; text-decoration-color: #000080\">│</span>\n",
       "<span style=\"color: #000080; text-decoration-color: #000080\">╰─────────────────────────────────────────────────────────────────────────────────────────────────────────────────╯</span>\n",
       "</pre>\n"
      ],
      "text/plain": [
       "\u001b[34m╭─\u001b[0m\u001b[34m───────────────────────────────────────────────\u001b[0m\u001b[34m Flow Execution \u001b[0m\u001b[34m────────────────────────────────────────────────\u001b[0m\u001b[34m─╮\u001b[0m\n",
       "\u001b[34m│\u001b[0m                                                                                                                 \u001b[34m│\u001b[0m\n",
       "\u001b[34m│\u001b[0m  \u001b[1;34mStarting Flow Execution\u001b[0m                                                                                        \u001b[34m│\u001b[0m\n",
       "\u001b[34m│\u001b[0m  \u001b[37mName: \u001b[0m\u001b[34mSimpleFlow\u001b[0m                                                                                               \u001b[34m│\u001b[0m\n",
       "\u001b[34m│\u001b[0m  \u001b[37mID: \u001b[0m\u001b[34m9d2d9f20-19f9-4b3d-8706-1c417de1b4ad\u001b[0m                                                                       \u001b[34m│\u001b[0m\n",
       "\u001b[34m│\u001b[0m                                                                                                                 \u001b[34m│\u001b[0m\n",
       "\u001b[34m│\u001b[0m                                                                                                                 \u001b[34m│\u001b[0m\n",
       "\u001b[34m╰─────────────────────────────────────────────────────────────────────────────────────────────────────────────────╯\u001b[0m\n"
      ]
     },
     "metadata": {},
     "output_type": "display_data"
    },
    {
     "data": {
      "text/html": [
       "<pre style=\"white-space:pre;overflow-x:auto;line-height:normal;font-family:Menlo,'DejaVu Sans Mono',consolas,'Courier New',monospace\">\n",
       "</pre>\n"
      ],
      "text/plain": [
       "\n"
      ]
     },
     "metadata": {},
     "output_type": "display_data"
    },
    {
     "data": {
      "text/html": [
       "<pre style=\"white-space:pre;overflow-x:auto;line-height:normal;font-family:Menlo,'DejaVu Sans Mono',consolas,'Courier New',monospace\"><span style=\"color: #000080; text-decoration-color: #000080; font-weight: bold\">🌊 Flow: </span><span style=\"color: #000080; text-decoration-color: #000080\">SimpleFlow</span>\n",
       "<span style=\"color: #c0c0c0; text-decoration-color: #c0c0c0\">    ID: </span><span style=\"color: #000080; text-decoration-color: #000080\">9d2d9f20-19f9-4b3d-8706-1c417de1b4ad</span>\n",
       "└── <span style=\"color: #808000; text-decoration-color: #808000\">🧠 Starting Flow...</span>\n",
       "</pre>\n"
      ],
      "text/plain": [
       "\u001b[1;34m🌊 Flow: \u001b[0m\u001b[34mSimpleFlow\u001b[0m\n",
       "\u001b[37m    ID: \u001b[0m\u001b[34m9d2d9f20-19f9-4b3d-8706-1c417de1b4ad\u001b[0m\n",
       "└── \u001b[33m🧠 Starting Flow...\u001b[0m\n"
      ]
     },
     "metadata": {},
     "output_type": "display_data"
    },
    {
     "data": {
      "text/html": [
       "<pre style=\"white-space:pre;overflow-x:auto;line-height:normal;font-family:Menlo,'DejaVu Sans Mono',consolas,'Courier New',monospace\">\n",
       "</pre>\n"
      ],
      "text/plain": [
       "\n"
      ]
     },
     "metadata": {},
     "output_type": "display_data"
    },
    {
     "name": "stdout",
     "output_type": "stream",
     "text": [
      "\u001b[1m\u001b[35m Flow started with ID: 9d2d9f20-19f9-4b3d-8706-1c417de1b4ad\u001b[00m\n"
     ]
    },
    {
     "data": {
      "text/html": [
       "<pre style=\"white-space:pre;overflow-x:auto;line-height:normal;font-family:Menlo,'DejaVu Sans Mono',consolas,'Courier New',monospace\"><span style=\"color: #000080; text-decoration-color: #000080; font-weight: bold\">🌊 Flow: </span><span style=\"color: #000080; text-decoration-color: #000080\">SimpleFlow</span>\n",
       "<span style=\"color: #c0c0c0; text-decoration-color: #c0c0c0\">    ID: </span><span style=\"color: #000080; text-decoration-color: #000080\">9d2d9f20-19f9-4b3d-8706-1c417de1b4ad</span>\n",
       "├── <span style=\"color: #808000; text-decoration-color: #808000\">🧠 Starting Flow...</span>\n",
       "└── <span style=\"color: #808000; text-decoration-color: #808000; font-weight: bold\">🔄 Running: initialize</span>\n",
       "</pre>\n"
      ],
      "text/plain": [
       "\u001b[1;34m🌊 Flow: \u001b[0m\u001b[34mSimpleFlow\u001b[0m\n",
       "\u001b[37m    ID: \u001b[0m\u001b[34m9d2d9f20-19f9-4b3d-8706-1c417de1b4ad\u001b[0m\n",
       "├── \u001b[33m🧠 Starting Flow...\u001b[0m\n",
       "└── \u001b[1;33m🔄 Running:\u001b[0m\u001b[1;33m initialize\u001b[0m\n"
      ]
     },
     "metadata": {},
     "output_type": "display_data"
    },
    {
     "data": {
      "text/html": [
       "<pre style=\"white-space:pre;overflow-x:auto;line-height:normal;font-family:Menlo,'DejaVu Sans Mono',consolas,'Courier New',monospace\">\n",
       "</pre>\n"
      ],
      "text/plain": [
       "\n"
      ]
     },
     "metadata": {},
     "output_type": "display_data"
    },
    {
     "name": "stdout",
     "output_type": "stream",
     "text": [
      "Flow mulai\n"
     ]
    },
    {
     "data": {
      "text/html": [
       "<pre style=\"white-space:pre;overflow-x:auto;line-height:normal;font-family:Menlo,'DejaVu Sans Mono',consolas,'Courier New',monospace\"><span style=\"color: #000080; text-decoration-color: #000080; font-weight: bold\">🌊 Flow: </span><span style=\"color: #000080; text-decoration-color: #000080\">SimpleFlow</span>\n",
       "<span style=\"color: #c0c0c0; text-decoration-color: #c0c0c0\">    ID: </span><span style=\"color: #000080; text-decoration-color: #000080\">9d2d9f20-19f9-4b3d-8706-1c417de1b4ad</span>\n",
       "├── <span style=\"color: #c0c0c0; text-decoration-color: #c0c0c0\">Flow Method Step</span>\n",
       "└── <span style=\"color: #008000; text-decoration-color: #008000; font-weight: bold\">✅ Completed: initialize</span>\n",
       "</pre>\n"
      ],
      "text/plain": [
       "\u001b[1;34m🌊 Flow: \u001b[0m\u001b[34mSimpleFlow\u001b[0m\n",
       "\u001b[37m    ID: \u001b[0m\u001b[34m9d2d9f20-19f9-4b3d-8706-1c417de1b4ad\u001b[0m\n",
       "├── \u001b[37mFlow Method Step\u001b[0m\n",
       "└── \u001b[1;32m✅ Completed:\u001b[0m\u001b[1;32m initialize\u001b[0m\n"
      ]
     },
     "metadata": {},
     "output_type": "display_data"
    },
    {
     "data": {
      "text/html": [
       "<pre style=\"white-space:pre;overflow-x:auto;line-height:normal;font-family:Menlo,'DejaVu Sans Mono',consolas,'Courier New',monospace\">\n",
       "</pre>\n"
      ],
      "text/plain": [
       "\n"
      ]
     },
     "metadata": {},
     "output_type": "display_data"
    },
    {
     "data": {
      "text/html": [
       "<pre style=\"white-space:pre;overflow-x:auto;line-height:normal;font-family:Menlo,'DejaVu Sans Mono',consolas,'Courier New',monospace\"><span style=\"color: #008000; text-decoration-color: #008000; font-weight: bold\">✅ Flow Finished: </span><span style=\"color: #008000; text-decoration-color: #008000\">SimpleFlow</span>\n",
       "├── <span style=\"color: #c0c0c0; text-decoration-color: #c0c0c0\">Flow Method Step</span>\n",
       "└── <span style=\"color: #008000; text-decoration-color: #008000; font-weight: bold\">✅ Completed: initialize</span>\n",
       "</pre>\n"
      ],
      "text/plain": [
       "\u001b[1;32m✅ Flow Finished: \u001b[0m\u001b[32mSimpleFlow\u001b[0m\n",
       "├── \u001b[37mFlow Method Step\u001b[0m\n",
       "└── \u001b[1;32m✅ Completed:\u001b[0m\u001b[1;32m initialize\u001b[0m\n"
      ]
     },
     "metadata": {},
     "output_type": "display_data"
    },
    {
     "data": {
      "text/html": [
       "<pre style=\"white-space:pre;overflow-x:auto;line-height:normal;font-family:Menlo,'DejaVu Sans Mono',consolas,'Courier New',monospace\"><span style=\"color: #008000; text-decoration-color: #008000\">╭──────────────────────────────────────────────── Flow Completion ────────────────────────────────────────────────╮</span>\n",
       "<span style=\"color: #008000; text-decoration-color: #008000\">│</span>                                                                                                                 <span style=\"color: #008000; text-decoration-color: #008000\">│</span>\n",
       "<span style=\"color: #008000; text-decoration-color: #008000\">│</span>  <span style=\"color: #008000; text-decoration-color: #008000; font-weight: bold\">Flow Execution Completed</span>                                                                                       <span style=\"color: #008000; text-decoration-color: #008000\">│</span>\n",
       "<span style=\"color: #008000; text-decoration-color: #008000\">│</span>  <span style=\"color: #c0c0c0; text-decoration-color: #c0c0c0\">Name: </span><span style=\"color: #008000; text-decoration-color: #008000\">SimpleFlow</span>                                                                                               <span style=\"color: #008000; text-decoration-color: #008000\">│</span>\n",
       "<span style=\"color: #008000; text-decoration-color: #008000\">│</span>  <span style=\"color: #c0c0c0; text-decoration-color: #c0c0c0\">ID: </span><span style=\"color: #008000; text-decoration-color: #008000\">9d2d9f20-19f9-4b3d-8706-1c417de1b4ad</span>                                                                       <span style=\"color: #008000; text-decoration-color: #008000\">│</span>\n",
       "<span style=\"color: #008000; text-decoration-color: #008000\">│</span>                                                                                                                 <span style=\"color: #008000; text-decoration-color: #008000\">│</span>\n",
       "<span style=\"color: #008000; text-decoration-color: #008000\">│</span>                                                                                                                 <span style=\"color: #008000; text-decoration-color: #008000\">│</span>\n",
       "<span style=\"color: #008000; text-decoration-color: #008000\">╰─────────────────────────────────────────────────────────────────────────────────────────────────────────────────╯</span>\n",
       "</pre>\n"
      ],
      "text/plain": [
       "\u001b[32m╭─\u001b[0m\u001b[32m───────────────────────────────────────────────\u001b[0m\u001b[32m Flow Completion \u001b[0m\u001b[32m───────────────────────────────────────────────\u001b[0m\u001b[32m─╮\u001b[0m\n",
       "\u001b[32m│\u001b[0m                                                                                                                 \u001b[32m│\u001b[0m\n",
       "\u001b[32m│\u001b[0m  \u001b[1;32mFlow Execution Completed\u001b[0m                                                                                       \u001b[32m│\u001b[0m\n",
       "\u001b[32m│\u001b[0m  \u001b[37mName: \u001b[0m\u001b[32mSimpleFlow\u001b[0m                                                                                               \u001b[32m│\u001b[0m\n",
       "\u001b[32m│\u001b[0m  \u001b[37mID: \u001b[0m\u001b[32m9d2d9f20-19f9-4b3d-8706-1c417de1b4ad\u001b[0m                                                                       \u001b[32m│\u001b[0m\n",
       "\u001b[32m│\u001b[0m                                                                                                                 \u001b[32m│\u001b[0m\n",
       "\u001b[32m│\u001b[0m                                                                                                                 \u001b[32m│\u001b[0m\n",
       "\u001b[32m╰─────────────────────────────────────────────────────────────────────────────────────────────────────────────────╯\u001b[0m\n"
      ]
     },
     "metadata": {},
     "output_type": "display_data"
    },
    {
     "data": {
      "text/html": [
       "<pre style=\"white-space:pre;overflow-x:auto;line-height:normal;font-family:Menlo,'DejaVu Sans Mono',consolas,'Courier New',monospace\">\n",
       "</pre>\n"
      ],
      "text/plain": [
       "\n"
      ]
     },
     "metadata": {},
     "output_type": "display_data"
    }
   ],
   "source": [
    "from crewai.flow.flow import Flow, start\n",
    "\n",
    "class SimpleFlow(Flow):\n",
    "\n",
    "    @start()\n",
    "    def initialize(self):\n",
    "        print(\"Flow mulai\")\n",
    "\n",
    "flow = SimpleFlow()\n",
    "await flow.kickoff_async()"
   ]
  },
  {
   "cell_type": "code",
   "execution_count": 2,
   "id": "0bc1c3e5-6b90-46d3-bac4-be6b59d58c46",
   "metadata": {},
   "outputs": [
    {
     "data": {
      "text/html": [
       "<pre style=\"white-space:pre;overflow-x:auto;line-height:normal;font-family:Menlo,'DejaVu Sans Mono',consolas,'Courier New',monospace\"><span style=\"color: #000080; text-decoration-color: #000080\">╭──────────────────────────────────────────────── Flow Execution ─────────────────────────────────────────────────╮</span>\n",
       "<span style=\"color: #000080; text-decoration-color: #000080\">│</span>                                                                                                                 <span style=\"color: #000080; text-decoration-color: #000080\">│</span>\n",
       "<span style=\"color: #000080; text-decoration-color: #000080\">│</span>  <span style=\"color: #000080; text-decoration-color: #000080; font-weight: bold\">Starting Flow Execution</span>                                                                                        <span style=\"color: #000080; text-decoration-color: #000080\">│</span>\n",
       "<span style=\"color: #000080; text-decoration-color: #000080\">│</span>  <span style=\"color: #c0c0c0; text-decoration-color: #c0c0c0\">Name: </span><span style=\"color: #000080; text-decoration-color: #000080\">SequentialFlow</span>                                                                                           <span style=\"color: #000080; text-decoration-color: #000080\">│</span>\n",
       "<span style=\"color: #000080; text-decoration-color: #000080\">│</span>  <span style=\"color: #c0c0c0; text-decoration-color: #c0c0c0\">ID: </span><span style=\"color: #000080; text-decoration-color: #000080\">85a6ad3b-9ca4-4b25-a9a7-8ff02c2d8d95</span>                                                                       <span style=\"color: #000080; text-decoration-color: #000080\">│</span>\n",
       "<span style=\"color: #000080; text-decoration-color: #000080\">│</span>                                                                                                                 <span style=\"color: #000080; text-decoration-color: #000080\">│</span>\n",
       "<span style=\"color: #000080; text-decoration-color: #000080\">│</span>                                                                                                                 <span style=\"color: #000080; text-decoration-color: #000080\">│</span>\n",
       "<span style=\"color: #000080; text-decoration-color: #000080\">╰─────────────────────────────────────────────────────────────────────────────────────────────────────────────────╯</span>\n",
       "</pre>\n"
      ],
      "text/plain": [
       "\u001b[34m╭─\u001b[0m\u001b[34m───────────────────────────────────────────────\u001b[0m\u001b[34m Flow Execution \u001b[0m\u001b[34m────────────────────────────────────────────────\u001b[0m\u001b[34m─╮\u001b[0m\n",
       "\u001b[34m│\u001b[0m                                                                                                                 \u001b[34m│\u001b[0m\n",
       "\u001b[34m│\u001b[0m  \u001b[1;34mStarting Flow Execution\u001b[0m                                                                                        \u001b[34m│\u001b[0m\n",
       "\u001b[34m│\u001b[0m  \u001b[37mName: \u001b[0m\u001b[34mSequentialFlow\u001b[0m                                                                                           \u001b[34m│\u001b[0m\n",
       "\u001b[34m│\u001b[0m  \u001b[37mID: \u001b[0m\u001b[34m85a6ad3b-9ca4-4b25-a9a7-8ff02c2d8d95\u001b[0m                                                                       \u001b[34m│\u001b[0m\n",
       "\u001b[34m│\u001b[0m                                                                                                                 \u001b[34m│\u001b[0m\n",
       "\u001b[34m│\u001b[0m                                                                                                                 \u001b[34m│\u001b[0m\n",
       "\u001b[34m╰─────────────────────────────────────────────────────────────────────────────────────────────────────────────────╯\u001b[0m\n"
      ]
     },
     "metadata": {},
     "output_type": "display_data"
    },
    {
     "data": {
      "text/html": [
       "<pre style=\"white-space:pre;overflow-x:auto;line-height:normal;font-family:Menlo,'DejaVu Sans Mono',consolas,'Courier New',monospace\">\n",
       "</pre>\n"
      ],
      "text/plain": [
       "\n"
      ]
     },
     "metadata": {},
     "output_type": "display_data"
    },
    {
     "data": {
      "text/html": [
       "<pre style=\"white-space:pre;overflow-x:auto;line-height:normal;font-family:Menlo,'DejaVu Sans Mono',consolas,'Courier New',monospace\"><span style=\"color: #000080; text-decoration-color: #000080; font-weight: bold\">🌊 Flow: </span><span style=\"color: #000080; text-decoration-color: #000080\">SequentialFlow</span>\n",
       "<span style=\"color: #c0c0c0; text-decoration-color: #c0c0c0\">    ID: </span><span style=\"color: #000080; text-decoration-color: #000080\">85a6ad3b-9ca4-4b25-a9a7-8ff02c2d8d95</span>\n",
       "└── <span style=\"color: #808000; text-decoration-color: #808000\">🧠 Starting Flow...</span>\n",
       "</pre>\n"
      ],
      "text/plain": [
       "\u001b[1;34m🌊 Flow: \u001b[0m\u001b[34mSequentialFlow\u001b[0m\n",
       "\u001b[37m    ID: \u001b[0m\u001b[34m85a6ad3b-9ca4-4b25-a9a7-8ff02c2d8d95\u001b[0m\n",
       "└── \u001b[33m🧠 Starting Flow...\u001b[0m\n"
      ]
     },
     "metadata": {},
     "output_type": "display_data"
    },
    {
     "data": {
      "text/html": [
       "<pre style=\"white-space:pre;overflow-x:auto;line-height:normal;font-family:Menlo,'DejaVu Sans Mono',consolas,'Courier New',monospace\">\n",
       "</pre>\n"
      ],
      "text/plain": [
       "\n"
      ]
     },
     "metadata": {},
     "output_type": "display_data"
    },
    {
     "name": "stdout",
     "output_type": "stream",
     "text": [
      "\u001b[1m\u001b[35m Flow started with ID: 85a6ad3b-9ca4-4b25-a9a7-8ff02c2d8d95\u001b[00m\n"
     ]
    },
    {
     "data": {
      "text/html": [
       "<pre style=\"white-space:pre;overflow-x:auto;line-height:normal;font-family:Menlo,'DejaVu Sans Mono',consolas,'Courier New',monospace\"><span style=\"color: #000080; text-decoration-color: #000080; font-weight: bold\">🌊 Flow: </span><span style=\"color: #000080; text-decoration-color: #000080\">SequentialFlow</span>\n",
       "<span style=\"color: #c0c0c0; text-decoration-color: #c0c0c0\">    ID: </span><span style=\"color: #000080; text-decoration-color: #000080\">85a6ad3b-9ca4-4b25-a9a7-8ff02c2d8d95</span>\n",
       "├── <span style=\"color: #808000; text-decoration-color: #808000\">🧠 Starting Flow...</span>\n",
       "└── <span style=\"color: #808000; text-decoration-color: #808000; font-weight: bold\">🔄 Running: first_task</span>\n",
       "</pre>\n"
      ],
      "text/plain": [
       "\u001b[1;34m🌊 Flow: \u001b[0m\u001b[34mSequentialFlow\u001b[0m\n",
       "\u001b[37m    ID: \u001b[0m\u001b[34m85a6ad3b-9ca4-4b25-a9a7-8ff02c2d8d95\u001b[0m\n",
       "├── \u001b[33m🧠 Starting Flow...\u001b[0m\n",
       "└── \u001b[1;33m🔄 Running:\u001b[0m\u001b[1;33m first_task\u001b[0m\n"
      ]
     },
     "metadata": {},
     "output_type": "display_data"
    },
    {
     "data": {
      "text/html": [
       "<pre style=\"white-space:pre;overflow-x:auto;line-height:normal;font-family:Menlo,'DejaVu Sans Mono',consolas,'Courier New',monospace\">\n",
       "</pre>\n"
      ],
      "text/plain": [
       "\n"
      ]
     },
     "metadata": {},
     "output_type": "display_data"
    },
    {
     "name": "stdout",
     "output_type": "stream",
     "text": [
      "Step 1: Fetching data\n"
     ]
    },
    {
     "data": {
      "text/html": [
       "<pre style=\"white-space:pre;overflow-x:auto;line-height:normal;font-family:Menlo,'DejaVu Sans Mono',consolas,'Courier New',monospace\"><span style=\"color: #000080; text-decoration-color: #000080; font-weight: bold\">🌊 Flow: </span><span style=\"color: #000080; text-decoration-color: #000080\">SequentialFlow</span>\n",
       "<span style=\"color: #c0c0c0; text-decoration-color: #c0c0c0\">    ID: </span><span style=\"color: #000080; text-decoration-color: #000080\">85a6ad3b-9ca4-4b25-a9a7-8ff02c2d8d95</span>\n",
       "├── <span style=\"color: #c0c0c0; text-decoration-color: #c0c0c0\">Flow Method Step</span>\n",
       "└── <span style=\"color: #008000; text-decoration-color: #008000; font-weight: bold\">✅ Completed: first_task</span>\n",
       "</pre>\n"
      ],
      "text/plain": [
       "\u001b[1;34m🌊 Flow: \u001b[0m\u001b[34mSequentialFlow\u001b[0m\n",
       "\u001b[37m    ID: \u001b[0m\u001b[34m85a6ad3b-9ca4-4b25-a9a7-8ff02c2d8d95\u001b[0m\n",
       "├── \u001b[37mFlow Method Step\u001b[0m\n",
       "└── \u001b[1;32m✅ Completed:\u001b[0m\u001b[1;32m first_task\u001b[0m\n"
      ]
     },
     "metadata": {},
     "output_type": "display_data"
    },
    {
     "data": {
      "text/html": [
       "<pre style=\"white-space:pre;overflow-x:auto;line-height:normal;font-family:Menlo,'DejaVu Sans Mono',consolas,'Courier New',monospace\">\n",
       "</pre>\n"
      ],
      "text/plain": [
       "\n"
      ]
     },
     "metadata": {},
     "output_type": "display_data"
    },
    {
     "data": {
      "text/html": [
       "<pre style=\"white-space:pre;overflow-x:auto;line-height:normal;font-family:Menlo,'DejaVu Sans Mono',consolas,'Courier New',monospace\"><span style=\"color: #000080; text-decoration-color: #000080; font-weight: bold\">🌊 Flow: </span><span style=\"color: #000080; text-decoration-color: #000080\">SequentialFlow</span>\n",
       "<span style=\"color: #c0c0c0; text-decoration-color: #c0c0c0\">    ID: </span><span style=\"color: #000080; text-decoration-color: #000080\">85a6ad3b-9ca4-4b25-a9a7-8ff02c2d8d95</span>\n",
       "├── <span style=\"color: #c0c0c0; text-decoration-color: #c0c0c0\">Flow Method Step</span>\n",
       "├── <span style=\"color: #008000; text-decoration-color: #008000; font-weight: bold\">✅ Completed: first_task</span>\n",
       "└── <span style=\"color: #808000; text-decoration-color: #808000; font-weight: bold\">🔄 Running: second_task</span>\n",
       "</pre>\n"
      ],
      "text/plain": [
       "\u001b[1;34m🌊 Flow: \u001b[0m\u001b[34mSequentialFlow\u001b[0m\n",
       "\u001b[37m    ID: \u001b[0m\u001b[34m85a6ad3b-9ca4-4b25-a9a7-8ff02c2d8d95\u001b[0m\n",
       "├── \u001b[37mFlow Method Step\u001b[0m\n",
       "├── \u001b[1;32m✅ Completed:\u001b[0m\u001b[1;32m first_task\u001b[0m\n",
       "└── \u001b[1;33m🔄 Running:\u001b[0m\u001b[1;33m second_task\u001b[0m\n"
      ]
     },
     "metadata": {},
     "output_type": "display_data"
    },
    {
     "data": {
      "text/html": [
       "<pre style=\"white-space:pre;overflow-x:auto;line-height:normal;font-family:Menlo,'DejaVu Sans Mono',consolas,'Courier New',monospace\">\n",
       "</pre>\n"
      ],
      "text/plain": [
       "\n"
      ]
     },
     "metadata": {},
     "output_type": "display_data"
    },
    {
     "name": "stdout",
     "output_type": "stream",
     "text": [
      "Step 2: Processing data_fetched\n"
     ]
    },
    {
     "data": {
      "text/html": [
       "<pre style=\"white-space:pre;overflow-x:auto;line-height:normal;font-family:Menlo,'DejaVu Sans Mono',consolas,'Courier New',monospace\"><span style=\"color: #000080; text-decoration-color: #000080; font-weight: bold\">🌊 Flow: </span><span style=\"color: #000080; text-decoration-color: #000080\">SequentialFlow</span>\n",
       "<span style=\"color: #c0c0c0; text-decoration-color: #c0c0c0\">    ID: </span><span style=\"color: #000080; text-decoration-color: #000080\">85a6ad3b-9ca4-4b25-a9a7-8ff02c2d8d95</span>\n",
       "├── <span style=\"color: #c0c0c0; text-decoration-color: #c0c0c0\">Flow Method Step</span>\n",
       "├── <span style=\"color: #008000; text-decoration-color: #008000; font-weight: bold\">✅ Completed: first_task</span>\n",
       "└── <span style=\"color: #008000; text-decoration-color: #008000; font-weight: bold\">✅ Completed: second_task</span>\n",
       "</pre>\n"
      ],
      "text/plain": [
       "\u001b[1;34m🌊 Flow: \u001b[0m\u001b[34mSequentialFlow\u001b[0m\n",
       "\u001b[37m    ID: \u001b[0m\u001b[34m85a6ad3b-9ca4-4b25-a9a7-8ff02c2d8d95\u001b[0m\n",
       "├── \u001b[37mFlow Method Step\u001b[0m\n",
       "├── \u001b[1;32m✅ Completed:\u001b[0m\u001b[1;32m first_task\u001b[0m\n",
       "└── \u001b[1;32m✅ Completed:\u001b[0m\u001b[1;32m second_task\u001b[0m\n"
      ]
     },
     "metadata": {},
     "output_type": "display_data"
    },
    {
     "data": {
      "text/html": [
       "<pre style=\"white-space:pre;overflow-x:auto;line-height:normal;font-family:Menlo,'DejaVu Sans Mono',consolas,'Courier New',monospace\">\n",
       "</pre>\n"
      ],
      "text/plain": [
       "\n"
      ]
     },
     "metadata": {},
     "output_type": "display_data"
    },
    {
     "data": {
      "text/html": [
       "<pre style=\"white-space:pre;overflow-x:auto;line-height:normal;font-family:Menlo,'DejaVu Sans Mono',consolas,'Courier New',monospace\"><span style=\"color: #008000; text-decoration-color: #008000; font-weight: bold\">✅ Flow Finished: </span><span style=\"color: #008000; text-decoration-color: #008000\">SequentialFlow</span>\n",
       "├── <span style=\"color: #c0c0c0; text-decoration-color: #c0c0c0\">Flow Method Step</span>\n",
       "├── <span style=\"color: #008000; text-decoration-color: #008000; font-weight: bold\">✅ Completed: first_task</span>\n",
       "└── <span style=\"color: #008000; text-decoration-color: #008000; font-weight: bold\">✅ Completed: second_task</span>\n",
       "</pre>\n"
      ],
      "text/plain": [
       "\u001b[1;32m✅ Flow Finished: \u001b[0m\u001b[32mSequentialFlow\u001b[0m\n",
       "├── \u001b[37mFlow Method Step\u001b[0m\n",
       "├── \u001b[1;32m✅ Completed:\u001b[0m\u001b[1;32m first_task\u001b[0m\n",
       "└── \u001b[1;32m✅ Completed:\u001b[0m\u001b[1;32m second_task\u001b[0m\n"
      ]
     },
     "metadata": {},
     "output_type": "display_data"
    },
    {
     "data": {
      "text/html": [
       "<pre style=\"white-space:pre;overflow-x:auto;line-height:normal;font-family:Menlo,'DejaVu Sans Mono',consolas,'Courier New',monospace\"><span style=\"color: #008000; text-decoration-color: #008000\">╭──────────────────────────────────────────────── Flow Completion ────────────────────────────────────────────────╮</span>\n",
       "<span style=\"color: #008000; text-decoration-color: #008000\">│</span>                                                                                                                 <span style=\"color: #008000; text-decoration-color: #008000\">│</span>\n",
       "<span style=\"color: #008000; text-decoration-color: #008000\">│</span>  <span style=\"color: #008000; text-decoration-color: #008000; font-weight: bold\">Flow Execution Completed</span>                                                                                       <span style=\"color: #008000; text-decoration-color: #008000\">│</span>\n",
       "<span style=\"color: #008000; text-decoration-color: #008000\">│</span>  <span style=\"color: #c0c0c0; text-decoration-color: #c0c0c0\">Name: </span><span style=\"color: #008000; text-decoration-color: #008000\">SequentialFlow</span>                                                                                           <span style=\"color: #008000; text-decoration-color: #008000\">│</span>\n",
       "<span style=\"color: #008000; text-decoration-color: #008000\">│</span>  <span style=\"color: #c0c0c0; text-decoration-color: #c0c0c0\">ID: </span><span style=\"color: #008000; text-decoration-color: #008000\">85a6ad3b-9ca4-4b25-a9a7-8ff02c2d8d95</span>                                                                       <span style=\"color: #008000; text-decoration-color: #008000\">│</span>\n",
       "<span style=\"color: #008000; text-decoration-color: #008000\">│</span>                                                                                                                 <span style=\"color: #008000; text-decoration-color: #008000\">│</span>\n",
       "<span style=\"color: #008000; text-decoration-color: #008000\">│</span>                                                                                                                 <span style=\"color: #008000; text-decoration-color: #008000\">│</span>\n",
       "<span style=\"color: #008000; text-decoration-color: #008000\">╰─────────────────────────────────────────────────────────────────────────────────────────────────────────────────╯</span>\n",
       "</pre>\n"
      ],
      "text/plain": [
       "\u001b[32m╭─\u001b[0m\u001b[32m───────────────────────────────────────────────\u001b[0m\u001b[32m Flow Completion \u001b[0m\u001b[32m───────────────────────────────────────────────\u001b[0m\u001b[32m─╮\u001b[0m\n",
       "\u001b[32m│\u001b[0m                                                                                                                 \u001b[32m│\u001b[0m\n",
       "\u001b[32m│\u001b[0m  \u001b[1;32mFlow Execution Completed\u001b[0m                                                                                       \u001b[32m│\u001b[0m\n",
       "\u001b[32m│\u001b[0m  \u001b[37mName: \u001b[0m\u001b[32mSequentialFlow\u001b[0m                                                                                           \u001b[32m│\u001b[0m\n",
       "\u001b[32m│\u001b[0m  \u001b[37mID: \u001b[0m\u001b[32m85a6ad3b-9ca4-4b25-a9a7-8ff02c2d8d95\u001b[0m                                                                       \u001b[32m│\u001b[0m\n",
       "\u001b[32m│\u001b[0m                                                                                                                 \u001b[32m│\u001b[0m\n",
       "\u001b[32m│\u001b[0m                                                                                                                 \u001b[32m│\u001b[0m\n",
       "\u001b[32m╰─────────────────────────────────────────────────────────────────────────────────────────────────────────────────╯\u001b[0m\n"
      ]
     },
     "metadata": {},
     "output_type": "display_data"
    },
    {
     "data": {
      "text/html": [
       "<pre style=\"white-space:pre;overflow-x:auto;line-height:normal;font-family:Menlo,'DejaVu Sans Mono',consolas,'Courier New',monospace\">\n",
       "</pre>\n"
      ],
      "text/plain": [
       "\n"
      ]
     },
     "metadata": {},
     "output_type": "display_data"
    }
   ],
   "source": [
    "from crewai.flow.flow import Flow, listen, start\n",
    "\n",
    "class SequentialFlow(Flow):\n",
    "\n",
    "    @start()\n",
    "    def first_task(self):\n",
    "        print(\"Step 1: Fetching data\")\n",
    "        return \"data_fetched\"\n",
    "\n",
    "    @listen(first_task)\n",
    "    def second_task(self, result):\n",
    "        print(f\"Step 2: Processing {result}\")\n",
    "\n",
    "flow = SequentialFlow()\n",
    "await flow.kickoff_async()"
   ]
  },
  {
   "cell_type": "code",
   "execution_count": 3,
   "id": "9aafe929-7d7e-4b8c-9d71-ba1ee465fac6",
   "metadata": {},
   "outputs": [
    {
     "data": {
      "text/html": [
       "<pre style=\"white-space:pre;overflow-x:auto;line-height:normal;font-family:Menlo,'DejaVu Sans Mono',consolas,'Courier New',monospace\"><span style=\"color: #000080; text-decoration-color: #000080\">╭──────────────────────────────────────────────── Flow Execution ─────────────────────────────────────────────────╮</span>\n",
       "<span style=\"color: #000080; text-decoration-color: #000080\">│</span>                                                                                                                 <span style=\"color: #000080; text-decoration-color: #000080\">│</span>\n",
       "<span style=\"color: #000080; text-decoration-color: #000080\">│</span>  <span style=\"color: #000080; text-decoration-color: #000080; font-weight: bold\">Starting Flow Execution</span>                                                                                        <span style=\"color: #000080; text-decoration-color: #000080\">│</span>\n",
       "<span style=\"color: #000080; text-decoration-color: #000080\">│</span>  <span style=\"color: #c0c0c0; text-decoration-color: #c0c0c0\">Name: </span><span style=\"color: #000080; text-decoration-color: #000080\">OrFlow</span>                                                                                                   <span style=\"color: #000080; text-decoration-color: #000080\">│</span>\n",
       "<span style=\"color: #000080; text-decoration-color: #000080\">│</span>  <span style=\"color: #c0c0c0; text-decoration-color: #c0c0c0\">ID: </span><span style=\"color: #000080; text-decoration-color: #000080\">70881f2c-e15d-4658-ac53-7c8f3f69e83a</span>                                                                       <span style=\"color: #000080; text-decoration-color: #000080\">│</span>\n",
       "<span style=\"color: #000080; text-decoration-color: #000080\">│</span>                                                                                                                 <span style=\"color: #000080; text-decoration-color: #000080\">│</span>\n",
       "<span style=\"color: #000080; text-decoration-color: #000080\">│</span>                                                                                                                 <span style=\"color: #000080; text-decoration-color: #000080\">│</span>\n",
       "<span style=\"color: #000080; text-decoration-color: #000080\">╰─────────────────────────────────────────────────────────────────────────────────────────────────────────────────╯</span>\n",
       "</pre>\n"
      ],
      "text/plain": [
       "\u001b[34m╭─\u001b[0m\u001b[34m───────────────────────────────────────────────\u001b[0m\u001b[34m Flow Execution \u001b[0m\u001b[34m────────────────────────────────────────────────\u001b[0m\u001b[34m─╮\u001b[0m\n",
       "\u001b[34m│\u001b[0m                                                                                                                 \u001b[34m│\u001b[0m\n",
       "\u001b[34m│\u001b[0m  \u001b[1;34mStarting Flow Execution\u001b[0m                                                                                        \u001b[34m│\u001b[0m\n",
       "\u001b[34m│\u001b[0m  \u001b[37mName: \u001b[0m\u001b[34mOrFlow\u001b[0m                                                                                                   \u001b[34m│\u001b[0m\n",
       "\u001b[34m│\u001b[0m  \u001b[37mID: \u001b[0m\u001b[34m70881f2c-e15d-4658-ac53-7c8f3f69e83a\u001b[0m                                                                       \u001b[34m│\u001b[0m\n",
       "\u001b[34m│\u001b[0m                                                                                                                 \u001b[34m│\u001b[0m\n",
       "\u001b[34m│\u001b[0m                                                                                                                 \u001b[34m│\u001b[0m\n",
       "\u001b[34m╰─────────────────────────────────────────────────────────────────────────────────────────────────────────────────╯\u001b[0m\n"
      ]
     },
     "metadata": {},
     "output_type": "display_data"
    },
    {
     "data": {
      "text/html": [
       "<pre style=\"white-space:pre;overflow-x:auto;line-height:normal;font-family:Menlo,'DejaVu Sans Mono',consolas,'Courier New',monospace\">\n",
       "</pre>\n"
      ],
      "text/plain": [
       "\n"
      ]
     },
     "metadata": {},
     "output_type": "display_data"
    },
    {
     "data": {
      "text/html": [
       "<pre style=\"white-space:pre;overflow-x:auto;line-height:normal;font-family:Menlo,'DejaVu Sans Mono',consolas,'Courier New',monospace\"><span style=\"color: #000080; text-decoration-color: #000080; font-weight: bold\">🌊 Flow: </span><span style=\"color: #000080; text-decoration-color: #000080\">OrFlow</span>\n",
       "<span style=\"color: #c0c0c0; text-decoration-color: #c0c0c0\">    ID: </span><span style=\"color: #000080; text-decoration-color: #000080\">70881f2c-e15d-4658-ac53-7c8f3f69e83a</span>\n",
       "└── <span style=\"color: #808000; text-decoration-color: #808000\">🧠 Starting Flow...</span>\n",
       "</pre>\n"
      ],
      "text/plain": [
       "\u001b[1;34m🌊 Flow: \u001b[0m\u001b[34mOrFlow\u001b[0m\n",
       "\u001b[37m    ID: \u001b[0m\u001b[34m70881f2c-e15d-4658-ac53-7c8f3f69e83a\u001b[0m\n",
       "└── \u001b[33m🧠 Starting Flow...\u001b[0m\n"
      ]
     },
     "metadata": {},
     "output_type": "display_data"
    },
    {
     "data": {
      "text/html": [
       "<pre style=\"white-space:pre;overflow-x:auto;line-height:normal;font-family:Menlo,'DejaVu Sans Mono',consolas,'Courier New',monospace\">\n",
       "</pre>\n"
      ],
      "text/plain": [
       "\n"
      ]
     },
     "metadata": {},
     "output_type": "display_data"
    },
    {
     "name": "stdout",
     "output_type": "stream",
     "text": [
      "\u001b[1m\u001b[35m Flow started with ID: 70881f2c-e15d-4658-ac53-7c8f3f69e83a\u001b[00m\n"
     ]
    },
    {
     "data": {
      "text/html": [
       "<pre style=\"white-space:pre;overflow-x:auto;line-height:normal;font-family:Menlo,'DejaVu Sans Mono',consolas,'Courier New',monospace\"><span style=\"color: #000080; text-decoration-color: #000080; font-weight: bold\">🌊 Flow: </span><span style=\"color: #000080; text-decoration-color: #000080\">OrFlow</span>\n",
       "<span style=\"color: #c0c0c0; text-decoration-color: #c0c0c0\">    ID: </span><span style=\"color: #000080; text-decoration-color: #000080\">70881f2c-e15d-4658-ac53-7c8f3f69e83a</span>\n",
       "├── <span style=\"color: #808000; text-decoration-color: #808000\">🧠 Starting Flow...</span>\n",
       "└── <span style=\"color: #808000; text-decoration-color: #808000; font-weight: bold\">🔄 Running: fetch_from_api</span>\n",
       "</pre>\n"
      ],
      "text/plain": [
       "\u001b[1;34m🌊 Flow: \u001b[0m\u001b[34mOrFlow\u001b[0m\n",
       "\u001b[37m    ID: \u001b[0m\u001b[34m70881f2c-e15d-4658-ac53-7c8f3f69e83a\u001b[0m\n",
       "├── \u001b[33m🧠 Starting Flow...\u001b[0m\n",
       "└── \u001b[1;33m🔄 Running:\u001b[0m\u001b[1;33m fetch_from_api\u001b[0m\n"
      ]
     },
     "metadata": {},
     "output_type": "display_data"
    },
    {
     "data": {
      "text/html": [
       "<pre style=\"white-space:pre;overflow-x:auto;line-height:normal;font-family:Menlo,'DejaVu Sans Mono',consolas,'Courier New',monospace\">\n",
       "</pre>\n"
      ],
      "text/plain": [
       "\n"
      ]
     },
     "metadata": {},
     "output_type": "display_data"
    },
    {
     "data": {
      "text/html": [
       "<pre style=\"white-space:pre;overflow-x:auto;line-height:normal;font-family:Menlo,'DejaVu Sans Mono',consolas,'Courier New',monospace\"><span style=\"color: #000080; text-decoration-color: #000080; font-weight: bold\">🌊 Flow: </span><span style=\"color: #000080; text-decoration-color: #000080\">OrFlow</span>\n",
       "<span style=\"color: #c0c0c0; text-decoration-color: #c0c0c0\">    ID: </span><span style=\"color: #000080; text-decoration-color: #000080\">70881f2c-e15d-4658-ac53-7c8f3f69e83a</span>\n",
       "├── <span style=\"color: #c0c0c0; text-decoration-color: #c0c0c0\">Flow Method Step</span>\n",
       "└── <span style=\"color: #008000; text-decoration-color: #008000; font-weight: bold\">✅ Completed: fetch_from_api</span>\n",
       "</pre>\n"
      ],
      "text/plain": [
       "\u001b[1;34m🌊 Flow: \u001b[0m\u001b[34mOrFlow\u001b[0m\n",
       "\u001b[37m    ID: \u001b[0m\u001b[34m70881f2c-e15d-4658-ac53-7c8f3f69e83a\u001b[0m\n",
       "├── \u001b[37mFlow Method Step\u001b[0m\n",
       "└── \u001b[1;32m✅ Completed:\u001b[0m\u001b[1;32m fetch_from_api\u001b[0m\n"
      ]
     },
     "metadata": {},
     "output_type": "display_data"
    },
    {
     "data": {
      "text/html": [
       "<pre style=\"white-space:pre;overflow-x:auto;line-height:normal;font-family:Menlo,'DejaVu Sans Mono',consolas,'Courier New',monospace\">\n",
       "</pre>\n"
      ],
      "text/plain": [
       "\n"
      ]
     },
     "metadata": {},
     "output_type": "display_data"
    },
    {
     "data": {
      "text/html": [
       "<pre style=\"white-space:pre;overflow-x:auto;line-height:normal;font-family:Menlo,'DejaVu Sans Mono',consolas,'Courier New',monospace\"><span style=\"color: #000080; text-decoration-color: #000080; font-weight: bold\">🌊 Flow: </span><span style=\"color: #000080; text-decoration-color: #000080\">OrFlow</span>\n",
       "<span style=\"color: #c0c0c0; text-decoration-color: #c0c0c0\">    ID: </span><span style=\"color: #000080; text-decoration-color: #000080\">70881f2c-e15d-4658-ac53-7c8f3f69e83a</span>\n",
       "├── <span style=\"color: #c0c0c0; text-decoration-color: #c0c0c0\">Flow Method Step</span>\n",
       "├── <span style=\"color: #008000; text-decoration-color: #008000; font-weight: bold\">✅ Completed: fetch_from_api</span>\n",
       "└── <span style=\"color: #808000; text-decoration-color: #808000; font-weight: bold\">🔄 Running: read_from_db</span>\n",
       "</pre>\n"
      ],
      "text/plain": [
       "\u001b[1;34m🌊 Flow: \u001b[0m\u001b[34mOrFlow\u001b[0m\n",
       "\u001b[37m    ID: \u001b[0m\u001b[34m70881f2c-e15d-4658-ac53-7c8f3f69e83a\u001b[0m\n",
       "├── \u001b[37mFlow Method Step\u001b[0m\n",
       "├── \u001b[1;32m✅ Completed:\u001b[0m\u001b[1;32m fetch_from_api\u001b[0m\n",
       "└── \u001b[1;33m🔄 Running:\u001b[0m\u001b[1;33m read_from_db\u001b[0m\n"
      ]
     },
     "metadata": {},
     "output_type": "display_data"
    },
    {
     "data": {
      "text/html": [
       "<pre style=\"white-space:pre;overflow-x:auto;line-height:normal;font-family:Menlo,'DejaVu Sans Mono',consolas,'Courier New',monospace\">\n",
       "</pre>\n"
      ],
      "text/plain": [
       "\n"
      ]
     },
     "metadata": {},
     "output_type": "display_data"
    },
    {
     "data": {
      "text/html": [
       "<pre style=\"white-space:pre;overflow-x:auto;line-height:normal;font-family:Menlo,'DejaVu Sans Mono',consolas,'Courier New',monospace\"><span style=\"color: #000080; text-decoration-color: #000080; font-weight: bold\">🌊 Flow: </span><span style=\"color: #000080; text-decoration-color: #000080\">OrFlow</span>\n",
       "<span style=\"color: #c0c0c0; text-decoration-color: #c0c0c0\">    ID: </span><span style=\"color: #000080; text-decoration-color: #000080\">70881f2c-e15d-4658-ac53-7c8f3f69e83a</span>\n",
       "├── <span style=\"color: #c0c0c0; text-decoration-color: #c0c0c0\">Flow Method Step</span>\n",
       "├── <span style=\"color: #008000; text-decoration-color: #008000; font-weight: bold\">✅ Completed: fetch_from_api</span>\n",
       "└── <span style=\"color: #008000; text-decoration-color: #008000; font-weight: bold\">✅ Completed: read_from_db</span>\n",
       "</pre>\n"
      ],
      "text/plain": [
       "\u001b[1;34m🌊 Flow: \u001b[0m\u001b[34mOrFlow\u001b[0m\n",
       "\u001b[37m    ID: \u001b[0m\u001b[34m70881f2c-e15d-4658-ac53-7c8f3f69e83a\u001b[0m\n",
       "├── \u001b[37mFlow Method Step\u001b[0m\n",
       "├── \u001b[1;32m✅ Completed:\u001b[0m\u001b[1;32m fetch_from_api\u001b[0m\n",
       "└── \u001b[1;32m✅ Completed:\u001b[0m\u001b[1;32m read_from_db\u001b[0m\n"
      ]
     },
     "metadata": {},
     "output_type": "display_data"
    },
    {
     "data": {
      "text/html": [
       "<pre style=\"white-space:pre;overflow-x:auto;line-height:normal;font-family:Menlo,'DejaVu Sans Mono',consolas,'Courier New',monospace\">\n",
       "</pre>\n"
      ],
      "text/plain": [
       "\n"
      ]
     },
     "metadata": {},
     "output_type": "display_data"
    },
    {
     "data": {
      "text/html": [
       "<pre style=\"white-space:pre;overflow-x:auto;line-height:normal;font-family:Menlo,'DejaVu Sans Mono',consolas,'Courier New',monospace\"><span style=\"color: #000080; text-decoration-color: #000080; font-weight: bold\">🌊 Flow: </span><span style=\"color: #000080; text-decoration-color: #000080\">OrFlow</span>\n",
       "<span style=\"color: #c0c0c0; text-decoration-color: #c0c0c0\">    ID: </span><span style=\"color: #000080; text-decoration-color: #000080\">70881f2c-e15d-4658-ac53-7c8f3f69e83a</span>\n",
       "├── <span style=\"color: #c0c0c0; text-decoration-color: #c0c0c0\">Flow Method Step</span>\n",
       "├── <span style=\"color: #008000; text-decoration-color: #008000; font-weight: bold\">✅ Completed: fetch_from_api</span>\n",
       "├── <span style=\"color: #008000; text-decoration-color: #008000; font-weight: bold\">✅ Completed: read_from_db</span>\n",
       "└── <span style=\"color: #808000; text-decoration-color: #808000; font-weight: bold\">🔄 Running: process_data</span>\n",
       "</pre>\n"
      ],
      "text/plain": [
       "\u001b[1;34m🌊 Flow: \u001b[0m\u001b[34mOrFlow\u001b[0m\n",
       "\u001b[37m    ID: \u001b[0m\u001b[34m70881f2c-e15d-4658-ac53-7c8f3f69e83a\u001b[0m\n",
       "├── \u001b[37mFlow Method Step\u001b[0m\n",
       "├── \u001b[1;32m✅ Completed:\u001b[0m\u001b[1;32m fetch_from_api\u001b[0m\n",
       "├── \u001b[1;32m✅ Completed:\u001b[0m\u001b[1;32m read_from_db\u001b[0m\n",
       "└── \u001b[1;33m🔄 Running:\u001b[0m\u001b[1;33m process_data\u001b[0m\n"
      ]
     },
     "metadata": {},
     "output_type": "display_data"
    },
    {
     "data": {
      "text/html": [
       "<pre style=\"white-space:pre;overflow-x:auto;line-height:normal;font-family:Menlo,'DejaVu Sans Mono',consolas,'Courier New',monospace\">\n",
       "</pre>\n"
      ],
      "text/plain": [
       "\n"
      ]
     },
     "metadata": {},
     "output_type": "display_data"
    },
    {
     "name": "stdout",
     "output_type": "stream",
     "text": [
      "Processing: API data\n"
     ]
    },
    {
     "data": {
      "text/html": [
       "<pre style=\"white-space:pre;overflow-x:auto;line-height:normal;font-family:Menlo,'DejaVu Sans Mono',consolas,'Courier New',monospace\"><span style=\"color: #000080; text-decoration-color: #000080; font-weight: bold\">🌊 Flow: </span><span style=\"color: #000080; text-decoration-color: #000080\">OrFlow</span>\n",
       "<span style=\"color: #c0c0c0; text-decoration-color: #c0c0c0\">    ID: </span><span style=\"color: #000080; text-decoration-color: #000080\">70881f2c-e15d-4658-ac53-7c8f3f69e83a</span>\n",
       "├── <span style=\"color: #c0c0c0; text-decoration-color: #c0c0c0\">Flow Method Step</span>\n",
       "├── <span style=\"color: #008000; text-decoration-color: #008000; font-weight: bold\">✅ Completed: fetch_from_api</span>\n",
       "├── <span style=\"color: #008000; text-decoration-color: #008000; font-weight: bold\">✅ Completed: read_from_db</span>\n",
       "└── <span style=\"color: #008000; text-decoration-color: #008000; font-weight: bold\">✅ Completed: process_data</span>\n",
       "</pre>\n"
      ],
      "text/plain": [
       "\u001b[1;34m🌊 Flow: \u001b[0m\u001b[34mOrFlow\u001b[0m\n",
       "\u001b[37m    ID: \u001b[0m\u001b[34m70881f2c-e15d-4658-ac53-7c8f3f69e83a\u001b[0m\n",
       "├── \u001b[37mFlow Method Step\u001b[0m\n",
       "├── \u001b[1;32m✅ Completed:\u001b[0m\u001b[1;32m fetch_from_api\u001b[0m\n",
       "├── \u001b[1;32m✅ Completed:\u001b[0m\u001b[1;32m read_from_db\u001b[0m\n",
       "└── \u001b[1;32m✅ Completed:\u001b[0m\u001b[1;32m process_data\u001b[0m\n"
      ]
     },
     "metadata": {},
     "output_type": "display_data"
    },
    {
     "data": {
      "text/html": [
       "<pre style=\"white-space:pre;overflow-x:auto;line-height:normal;font-family:Menlo,'DejaVu Sans Mono',consolas,'Courier New',monospace\">\n",
       "</pre>\n"
      ],
      "text/plain": [
       "\n"
      ]
     },
     "metadata": {},
     "output_type": "display_data"
    },
    {
     "data": {
      "text/html": [
       "<pre style=\"white-space:pre;overflow-x:auto;line-height:normal;font-family:Menlo,'DejaVu Sans Mono',consolas,'Courier New',monospace\"><span style=\"color: #000080; text-decoration-color: #000080; font-weight: bold\">🌊 Flow: </span><span style=\"color: #000080; text-decoration-color: #000080\">OrFlow</span>\n",
       "<span style=\"color: #c0c0c0; text-decoration-color: #c0c0c0\">    ID: </span><span style=\"color: #000080; text-decoration-color: #000080\">70881f2c-e15d-4658-ac53-7c8f3f69e83a</span>\n",
       "├── <span style=\"color: #c0c0c0; text-decoration-color: #c0c0c0\">Flow Method Step</span>\n",
       "├── <span style=\"color: #008000; text-decoration-color: #008000; font-weight: bold\">✅ Completed: fetch_from_api</span>\n",
       "├── <span style=\"color: #008000; text-decoration-color: #008000; font-weight: bold\">✅ Completed: read_from_db</span>\n",
       "└── <span style=\"color: #808000; text-decoration-color: #808000; font-weight: bold\">🔄 Running: process_data</span>\n",
       "</pre>\n"
      ],
      "text/plain": [
       "\u001b[1;34m🌊 Flow: \u001b[0m\u001b[34mOrFlow\u001b[0m\n",
       "\u001b[37m    ID: \u001b[0m\u001b[34m70881f2c-e15d-4658-ac53-7c8f3f69e83a\u001b[0m\n",
       "├── \u001b[37mFlow Method Step\u001b[0m\n",
       "├── \u001b[1;32m✅ Completed:\u001b[0m\u001b[1;32m fetch_from_api\u001b[0m\n",
       "├── \u001b[1;32m✅ Completed:\u001b[0m\u001b[1;32m read_from_db\u001b[0m\n",
       "└── \u001b[1;33m🔄 Running:\u001b[0m\u001b[1;33m process_data\u001b[0m\n"
      ]
     },
     "metadata": {},
     "output_type": "display_data"
    },
    {
     "data": {
      "text/html": [
       "<pre style=\"white-space:pre;overflow-x:auto;line-height:normal;font-family:Menlo,'DejaVu Sans Mono',consolas,'Courier New',monospace\">\n",
       "</pre>\n"
      ],
      "text/plain": [
       "\n"
      ]
     },
     "metadata": {},
     "output_type": "display_data"
    },
    {
     "name": "stdout",
     "output_type": "stream",
     "text": [
      "Processing: Database record\n"
     ]
    },
    {
     "data": {
      "text/html": [
       "<pre style=\"white-space:pre;overflow-x:auto;line-height:normal;font-family:Menlo,'DejaVu Sans Mono',consolas,'Courier New',monospace\"><span style=\"color: #000080; text-decoration-color: #000080; font-weight: bold\">🌊 Flow: </span><span style=\"color: #000080; text-decoration-color: #000080\">OrFlow</span>\n",
       "<span style=\"color: #c0c0c0; text-decoration-color: #c0c0c0\">    ID: </span><span style=\"color: #000080; text-decoration-color: #000080\">70881f2c-e15d-4658-ac53-7c8f3f69e83a</span>\n",
       "├── <span style=\"color: #c0c0c0; text-decoration-color: #c0c0c0\">Flow Method Step</span>\n",
       "├── <span style=\"color: #008000; text-decoration-color: #008000; font-weight: bold\">✅ Completed: fetch_from_api</span>\n",
       "├── <span style=\"color: #008000; text-decoration-color: #008000; font-weight: bold\">✅ Completed: read_from_db</span>\n",
       "└── <span style=\"color: #008000; text-decoration-color: #008000; font-weight: bold\">✅ Completed: process_data</span>\n",
       "</pre>\n"
      ],
      "text/plain": [
       "\u001b[1;34m🌊 Flow: \u001b[0m\u001b[34mOrFlow\u001b[0m\n",
       "\u001b[37m    ID: \u001b[0m\u001b[34m70881f2c-e15d-4658-ac53-7c8f3f69e83a\u001b[0m\n",
       "├── \u001b[37mFlow Method Step\u001b[0m\n",
       "├── \u001b[1;32m✅ Completed:\u001b[0m\u001b[1;32m fetch_from_api\u001b[0m\n",
       "├── \u001b[1;32m✅ Completed:\u001b[0m\u001b[1;32m read_from_db\u001b[0m\n",
       "└── \u001b[1;32m✅ Completed:\u001b[0m\u001b[1;32m process_data\u001b[0m\n"
      ]
     },
     "metadata": {},
     "output_type": "display_data"
    },
    {
     "data": {
      "text/html": [
       "<pre style=\"white-space:pre;overflow-x:auto;line-height:normal;font-family:Menlo,'DejaVu Sans Mono',consolas,'Courier New',monospace\">\n",
       "</pre>\n"
      ],
      "text/plain": [
       "\n"
      ]
     },
     "metadata": {},
     "output_type": "display_data"
    },
    {
     "data": {
      "text/html": [
       "<pre style=\"white-space:pre;overflow-x:auto;line-height:normal;font-family:Menlo,'DejaVu Sans Mono',consolas,'Courier New',monospace\"><span style=\"color: #008000; text-decoration-color: #008000; font-weight: bold\">✅ Flow Finished: </span><span style=\"color: #008000; text-decoration-color: #008000\">OrFlow</span>\n",
       "├── <span style=\"color: #c0c0c0; text-decoration-color: #c0c0c0\">Flow Method Step</span>\n",
       "├── <span style=\"color: #008000; text-decoration-color: #008000; font-weight: bold\">✅ Completed: fetch_from_api</span>\n",
       "├── <span style=\"color: #008000; text-decoration-color: #008000; font-weight: bold\">✅ Completed: read_from_db</span>\n",
       "└── <span style=\"color: #008000; text-decoration-color: #008000; font-weight: bold\">✅ Completed: process_data</span>\n",
       "</pre>\n"
      ],
      "text/plain": [
       "\u001b[1;32m✅ Flow Finished: \u001b[0m\u001b[32mOrFlow\u001b[0m\n",
       "├── \u001b[37mFlow Method Step\u001b[0m\n",
       "├── \u001b[1;32m✅ Completed:\u001b[0m\u001b[1;32m fetch_from_api\u001b[0m\n",
       "├── \u001b[1;32m✅ Completed:\u001b[0m\u001b[1;32m read_from_db\u001b[0m\n",
       "└── \u001b[1;32m✅ Completed:\u001b[0m\u001b[1;32m process_data\u001b[0m\n"
      ]
     },
     "metadata": {},
     "output_type": "display_data"
    },
    {
     "data": {
      "text/html": [
       "<pre style=\"white-space:pre;overflow-x:auto;line-height:normal;font-family:Menlo,'DejaVu Sans Mono',consolas,'Courier New',monospace\"><span style=\"color: #008000; text-decoration-color: #008000\">╭──────────────────────────────────────────────── Flow Completion ────────────────────────────────────────────────╮</span>\n",
       "<span style=\"color: #008000; text-decoration-color: #008000\">│</span>                                                                                                                 <span style=\"color: #008000; text-decoration-color: #008000\">│</span>\n",
       "<span style=\"color: #008000; text-decoration-color: #008000\">│</span>  <span style=\"color: #008000; text-decoration-color: #008000; font-weight: bold\">Flow Execution Completed</span>                                                                                       <span style=\"color: #008000; text-decoration-color: #008000\">│</span>\n",
       "<span style=\"color: #008000; text-decoration-color: #008000\">│</span>  <span style=\"color: #c0c0c0; text-decoration-color: #c0c0c0\">Name: </span><span style=\"color: #008000; text-decoration-color: #008000\">OrFlow</span>                                                                                                   <span style=\"color: #008000; text-decoration-color: #008000\">│</span>\n",
       "<span style=\"color: #008000; text-decoration-color: #008000\">│</span>  <span style=\"color: #c0c0c0; text-decoration-color: #c0c0c0\">ID: </span><span style=\"color: #008000; text-decoration-color: #008000\">70881f2c-e15d-4658-ac53-7c8f3f69e83a</span>                                                                       <span style=\"color: #008000; text-decoration-color: #008000\">│</span>\n",
       "<span style=\"color: #008000; text-decoration-color: #008000\">│</span>                                                                                                                 <span style=\"color: #008000; text-decoration-color: #008000\">│</span>\n",
       "<span style=\"color: #008000; text-decoration-color: #008000\">│</span>                                                                                                                 <span style=\"color: #008000; text-decoration-color: #008000\">│</span>\n",
       "<span style=\"color: #008000; text-decoration-color: #008000\">╰─────────────────────────────────────────────────────────────────────────────────────────────────────────────────╯</span>\n",
       "</pre>\n"
      ],
      "text/plain": [
       "\u001b[32m╭─\u001b[0m\u001b[32m───────────────────────────────────────────────\u001b[0m\u001b[32m Flow Completion \u001b[0m\u001b[32m───────────────────────────────────────────────\u001b[0m\u001b[32m─╮\u001b[0m\n",
       "\u001b[32m│\u001b[0m                                                                                                                 \u001b[32m│\u001b[0m\n",
       "\u001b[32m│\u001b[0m  \u001b[1;32mFlow Execution Completed\u001b[0m                                                                                       \u001b[32m│\u001b[0m\n",
       "\u001b[32m│\u001b[0m  \u001b[37mName: \u001b[0m\u001b[32mOrFlow\u001b[0m                                                                                                   \u001b[32m│\u001b[0m\n",
       "\u001b[32m│\u001b[0m  \u001b[37mID: \u001b[0m\u001b[32m70881f2c-e15d-4658-ac53-7c8f3f69e83a\u001b[0m                                                                       \u001b[32m│\u001b[0m\n",
       "\u001b[32m│\u001b[0m                                                                                                                 \u001b[32m│\u001b[0m\n",
       "\u001b[32m│\u001b[0m                                                                                                                 \u001b[32m│\u001b[0m\n",
       "\u001b[32m╰─────────────────────────────────────────────────────────────────────────────────────────────────────────────────╯\u001b[0m\n"
      ]
     },
     "metadata": {},
     "output_type": "display_data"
    },
    {
     "data": {
      "text/html": [
       "<pre style=\"white-space:pre;overflow-x:auto;line-height:normal;font-family:Menlo,'DejaVu Sans Mono',consolas,'Courier New',monospace\">\n",
       "</pre>\n"
      ],
      "text/plain": [
       "\n"
      ]
     },
     "metadata": {},
     "output_type": "display_data"
    }
   ],
   "source": [
    "from crewai.flow.flow import Flow, listen, or_, start\n",
    "\n",
    "class OrFlow(Flow):\n",
    "\n",
    "    @start()\n",
    "    def fetch_from_api(self):\n",
    "        return \"API data\"\n",
    "\n",
    "    @start()\n",
    "    def read_from_db(self):\n",
    "        return \"Database record\"\n",
    "\n",
    "    @listen(or_(fetch_from_api, read_from_db))\n",
    "    def process_data(self, result):\n",
    "        print(f\"Processing: {result}\")\n",
    "\n",
    "flow = OrFlow()\n",
    "await flow.kickoff_async()"
   ]
  },
  {
   "cell_type": "code",
   "execution_count": 4,
   "id": "81d4e5b7-1764-4078-a91d-125615d0bf9d",
   "metadata": {},
   "outputs": [
    {
     "data": {
      "text/html": [
       "<pre style=\"white-space:pre;overflow-x:auto;line-height:normal;font-family:Menlo,'DejaVu Sans Mono',consolas,'Courier New',monospace\"><span style=\"color: #000080; text-decoration-color: #000080\">╭──────────────────────────────────────────────── Flow Execution ─────────────────────────────────────────────────╮</span>\n",
       "<span style=\"color: #000080; text-decoration-color: #000080\">│</span>                                                                                                                 <span style=\"color: #000080; text-decoration-color: #000080\">│</span>\n",
       "<span style=\"color: #000080; text-decoration-color: #000080\">│</span>  <span style=\"color: #000080; text-decoration-color: #000080; font-weight: bold\">Starting Flow Execution</span>                                                                                        <span style=\"color: #000080; text-decoration-color: #000080\">│</span>\n",
       "<span style=\"color: #000080; text-decoration-color: #000080\">│</span>  <span style=\"color: #c0c0c0; text-decoration-color: #c0c0c0\">Name: </span><span style=\"color: #000080; text-decoration-color: #000080\">AndFlow</span>                                                                                                  <span style=\"color: #000080; text-decoration-color: #000080\">│</span>\n",
       "<span style=\"color: #000080; text-decoration-color: #000080\">│</span>  <span style=\"color: #c0c0c0; text-decoration-color: #c0c0c0\">ID: </span><span style=\"color: #000080; text-decoration-color: #000080\">bca59ebd-ea32-480e-b989-d18193466800</span>                                                                       <span style=\"color: #000080; text-decoration-color: #000080\">│</span>\n",
       "<span style=\"color: #000080; text-decoration-color: #000080\">│</span>                                                                                                                 <span style=\"color: #000080; text-decoration-color: #000080\">│</span>\n",
       "<span style=\"color: #000080; text-decoration-color: #000080\">│</span>                                                                                                                 <span style=\"color: #000080; text-decoration-color: #000080\">│</span>\n",
       "<span style=\"color: #000080; text-decoration-color: #000080\">╰─────────────────────────────────────────────────────────────────────────────────────────────────────────────────╯</span>\n",
       "</pre>\n"
      ],
      "text/plain": [
       "\u001b[34m╭─\u001b[0m\u001b[34m───────────────────────────────────────────────\u001b[0m\u001b[34m Flow Execution \u001b[0m\u001b[34m────────────────────────────────────────────────\u001b[0m\u001b[34m─╮\u001b[0m\n",
       "\u001b[34m│\u001b[0m                                                                                                                 \u001b[34m│\u001b[0m\n",
       "\u001b[34m│\u001b[0m  \u001b[1;34mStarting Flow Execution\u001b[0m                                                                                        \u001b[34m│\u001b[0m\n",
       "\u001b[34m│\u001b[0m  \u001b[37mName: \u001b[0m\u001b[34mAndFlow\u001b[0m                                                                                                  \u001b[34m│\u001b[0m\n",
       "\u001b[34m│\u001b[0m  \u001b[37mID: \u001b[0m\u001b[34mbca59ebd-ea32-480e-b989-d18193466800\u001b[0m                                                                       \u001b[34m│\u001b[0m\n",
       "\u001b[34m│\u001b[0m                                                                                                                 \u001b[34m│\u001b[0m\n",
       "\u001b[34m│\u001b[0m                                                                                                                 \u001b[34m│\u001b[0m\n",
       "\u001b[34m╰─────────────────────────────────────────────────────────────────────────────────────────────────────────────────╯\u001b[0m\n"
      ]
     },
     "metadata": {},
     "output_type": "display_data"
    },
    {
     "data": {
      "text/html": [
       "<pre style=\"white-space:pre;overflow-x:auto;line-height:normal;font-family:Menlo,'DejaVu Sans Mono',consolas,'Courier New',monospace\">\n",
       "</pre>\n"
      ],
      "text/plain": [
       "\n"
      ]
     },
     "metadata": {},
     "output_type": "display_data"
    },
    {
     "data": {
      "text/html": [
       "<pre style=\"white-space:pre;overflow-x:auto;line-height:normal;font-family:Menlo,'DejaVu Sans Mono',consolas,'Courier New',monospace\"><span style=\"color: #000080; text-decoration-color: #000080; font-weight: bold\">🌊 Flow: </span><span style=\"color: #000080; text-decoration-color: #000080\">AndFlow</span>\n",
       "<span style=\"color: #c0c0c0; text-decoration-color: #c0c0c0\">    ID: </span><span style=\"color: #000080; text-decoration-color: #000080\">bca59ebd-ea32-480e-b989-d18193466800</span>\n",
       "└── <span style=\"color: #808000; text-decoration-color: #808000\">🧠 Starting Flow...</span>\n",
       "</pre>\n"
      ],
      "text/plain": [
       "\u001b[1;34m🌊 Flow: \u001b[0m\u001b[34mAndFlow\u001b[0m\n",
       "\u001b[37m    ID: \u001b[0m\u001b[34mbca59ebd-ea32-480e-b989-d18193466800\u001b[0m\n",
       "└── \u001b[33m🧠 Starting Flow...\u001b[0m\n"
      ]
     },
     "metadata": {},
     "output_type": "display_data"
    },
    {
     "data": {
      "text/html": [
       "<pre style=\"white-space:pre;overflow-x:auto;line-height:normal;font-family:Menlo,'DejaVu Sans Mono',consolas,'Courier New',monospace\">\n",
       "</pre>\n"
      ],
      "text/plain": [
       "\n"
      ]
     },
     "metadata": {},
     "output_type": "display_data"
    },
    {
     "name": "stdout",
     "output_type": "stream",
     "text": [
      "\u001b[1m\u001b[35m Flow started with ID: bca59ebd-ea32-480e-b989-d18193466800\u001b[00m\n"
     ]
    },
    {
     "data": {
      "text/html": [
       "<pre style=\"white-space:pre;overflow-x:auto;line-height:normal;font-family:Menlo,'DejaVu Sans Mono',consolas,'Courier New',monospace\"><span style=\"color: #000080; text-decoration-color: #000080; font-weight: bold\">🌊 Flow: </span><span style=\"color: #000080; text-decoration-color: #000080\">AndFlow</span>\n",
       "<span style=\"color: #c0c0c0; text-decoration-color: #c0c0c0\">    ID: </span><span style=\"color: #000080; text-decoration-color: #000080\">bca59ebd-ea32-480e-b989-d18193466800</span>\n",
       "├── <span style=\"color: #808000; text-decoration-color: #808000\">🧠 Starting Flow...</span>\n",
       "└── <span style=\"color: #808000; text-decoration-color: #808000; font-weight: bold\">🔄 Running: step_one</span>\n",
       "</pre>\n"
      ],
      "text/plain": [
       "\u001b[1;34m🌊 Flow: \u001b[0m\u001b[34mAndFlow\u001b[0m\n",
       "\u001b[37m    ID: \u001b[0m\u001b[34mbca59ebd-ea32-480e-b989-d18193466800\u001b[0m\n",
       "├── \u001b[33m🧠 Starting Flow...\u001b[0m\n",
       "└── \u001b[1;33m🔄 Running:\u001b[0m\u001b[1;33m step_one\u001b[0m\n"
      ]
     },
     "metadata": {},
     "output_type": "display_data"
    },
    {
     "data": {
      "text/html": [
       "<pre style=\"white-space:pre;overflow-x:auto;line-height:normal;font-family:Menlo,'DejaVu Sans Mono',consolas,'Courier New',monospace\">\n",
       "</pre>\n"
      ],
      "text/plain": [
       "\n"
      ]
     },
     "metadata": {},
     "output_type": "display_data"
    },
    {
     "name": "stdout",
     "output_type": "stream",
     "text": [
      "Step 1: Collecting user input\n"
     ]
    },
    {
     "data": {
      "text/html": [
       "<pre style=\"white-space:pre;overflow-x:auto;line-height:normal;font-family:Menlo,'DejaVu Sans Mono',consolas,'Courier New',monospace\"><span style=\"color: #000080; text-decoration-color: #000080; font-weight: bold\">🌊 Flow: </span><span style=\"color: #000080; text-decoration-color: #000080\">AndFlow</span>\n",
       "<span style=\"color: #c0c0c0; text-decoration-color: #c0c0c0\">    ID: </span><span style=\"color: #000080; text-decoration-color: #000080\">bca59ebd-ea32-480e-b989-d18193466800</span>\n",
       "├── <span style=\"color: #c0c0c0; text-decoration-color: #c0c0c0\">Flow Method Step</span>\n",
       "└── <span style=\"color: #008000; text-decoration-color: #008000; font-weight: bold\">✅ Completed: step_one</span>\n",
       "</pre>\n"
      ],
      "text/plain": [
       "\u001b[1;34m🌊 Flow: \u001b[0m\u001b[34mAndFlow\u001b[0m\n",
       "\u001b[37m    ID: \u001b[0m\u001b[34mbca59ebd-ea32-480e-b989-d18193466800\u001b[0m\n",
       "├── \u001b[37mFlow Method Step\u001b[0m\n",
       "└── \u001b[1;32m✅ Completed:\u001b[0m\u001b[1;32m step_one\u001b[0m\n"
      ]
     },
     "metadata": {},
     "output_type": "display_data"
    },
    {
     "data": {
      "text/html": [
       "<pre style=\"white-space:pre;overflow-x:auto;line-height:normal;font-family:Menlo,'DejaVu Sans Mono',consolas,'Courier New',monospace\">\n",
       "</pre>\n"
      ],
      "text/plain": [
       "\n"
      ]
     },
     "metadata": {},
     "output_type": "display_data"
    },
    {
     "data": {
      "text/html": [
       "<pre style=\"white-space:pre;overflow-x:auto;line-height:normal;font-family:Menlo,'DejaVu Sans Mono',consolas,'Courier New',monospace\"><span style=\"color: #000080; text-decoration-color: #000080; font-weight: bold\">🌊 Flow: </span><span style=\"color: #000080; text-decoration-color: #000080\">AndFlow</span>\n",
       "<span style=\"color: #c0c0c0; text-decoration-color: #c0c0c0\">    ID: </span><span style=\"color: #000080; text-decoration-color: #000080\">bca59ebd-ea32-480e-b989-d18193466800</span>\n",
       "├── <span style=\"color: #c0c0c0; text-decoration-color: #c0c0c0\">Flow Method Step</span>\n",
       "├── <span style=\"color: #008000; text-decoration-color: #008000; font-weight: bold\">✅ Completed: step_one</span>\n",
       "└── <span style=\"color: #808000; text-decoration-color: #808000; font-weight: bold\">🔄 Running: step_two</span>\n",
       "</pre>\n"
      ],
      "text/plain": [
       "\u001b[1;34m🌊 Flow: \u001b[0m\u001b[34mAndFlow\u001b[0m\n",
       "\u001b[37m    ID: \u001b[0m\u001b[34mbca59ebd-ea32-480e-b989-d18193466800\u001b[0m\n",
       "├── \u001b[37mFlow Method Step\u001b[0m\n",
       "├── \u001b[1;32m✅ Completed:\u001b[0m\u001b[1;32m step_one\u001b[0m\n",
       "└── \u001b[1;33m🔄 Running:\u001b[0m\u001b[1;33m step_two\u001b[0m\n"
      ]
     },
     "metadata": {},
     "output_type": "display_data"
    },
    {
     "data": {
      "text/html": [
       "<pre style=\"white-space:pre;overflow-x:auto;line-height:normal;font-family:Menlo,'DejaVu Sans Mono',consolas,'Courier New',monospace\">\n",
       "</pre>\n"
      ],
      "text/plain": [
       "\n"
      ]
     },
     "metadata": {},
     "output_type": "display_data"
    },
    {
     "name": "stdout",
     "output_type": "stream",
     "text": [
      "Step 2: Validating input\n"
     ]
    },
    {
     "data": {
      "text/html": [
       "<pre style=\"white-space:pre;overflow-x:auto;line-height:normal;font-family:Menlo,'DejaVu Sans Mono',consolas,'Courier New',monospace\"><span style=\"color: #000080; text-decoration-color: #000080; font-weight: bold\">🌊 Flow: </span><span style=\"color: #000080; text-decoration-color: #000080\">AndFlow</span>\n",
       "<span style=\"color: #c0c0c0; text-decoration-color: #c0c0c0\">    ID: </span><span style=\"color: #000080; text-decoration-color: #000080\">bca59ebd-ea32-480e-b989-d18193466800</span>\n",
       "├── <span style=\"color: #c0c0c0; text-decoration-color: #c0c0c0\">Flow Method Step</span>\n",
       "├── <span style=\"color: #008000; text-decoration-color: #008000; font-weight: bold\">✅ Completed: step_one</span>\n",
       "└── <span style=\"color: #008000; text-decoration-color: #008000; font-weight: bold\">✅ Completed: step_two</span>\n",
       "</pre>\n"
      ],
      "text/plain": [
       "\u001b[1;34m🌊 Flow: \u001b[0m\u001b[34mAndFlow\u001b[0m\n",
       "\u001b[37m    ID: \u001b[0m\u001b[34mbca59ebd-ea32-480e-b989-d18193466800\u001b[0m\n",
       "├── \u001b[37mFlow Method Step\u001b[0m\n",
       "├── \u001b[1;32m✅ Completed:\u001b[0m\u001b[1;32m step_one\u001b[0m\n",
       "└── \u001b[1;32m✅ Completed:\u001b[0m\u001b[1;32m step_two\u001b[0m\n"
      ]
     },
     "metadata": {},
     "output_type": "display_data"
    },
    {
     "data": {
      "text/html": [
       "<pre style=\"white-space:pre;overflow-x:auto;line-height:normal;font-family:Menlo,'DejaVu Sans Mono',consolas,'Courier New',monospace\">\n",
       "</pre>\n"
      ],
      "text/plain": [
       "\n"
      ]
     },
     "metadata": {},
     "output_type": "display_data"
    },
    {
     "data": {
      "text/html": [
       "<pre style=\"white-space:pre;overflow-x:auto;line-height:normal;font-family:Menlo,'DejaVu Sans Mono',consolas,'Courier New',monospace\"><span style=\"color: #000080; text-decoration-color: #000080; font-weight: bold\">🌊 Flow: </span><span style=\"color: #000080; text-decoration-color: #000080\">AndFlow</span>\n",
       "<span style=\"color: #c0c0c0; text-decoration-color: #c0c0c0\">    ID: </span><span style=\"color: #000080; text-decoration-color: #000080\">bca59ebd-ea32-480e-b989-d18193466800</span>\n",
       "├── <span style=\"color: #c0c0c0; text-decoration-color: #c0c0c0\">Flow Method Step</span>\n",
       "├── <span style=\"color: #008000; text-decoration-color: #008000; font-weight: bold\">✅ Completed: step_one</span>\n",
       "├── <span style=\"color: #008000; text-decoration-color: #008000; font-weight: bold\">✅ Completed: step_two</span>\n",
       "└── <span style=\"color: #808000; text-decoration-color: #808000; font-weight: bold\">🔄 Running: final_step</span>\n",
       "</pre>\n"
      ],
      "text/plain": [
       "\u001b[1;34m🌊 Flow: \u001b[0m\u001b[34mAndFlow\u001b[0m\n",
       "\u001b[37m    ID: \u001b[0m\u001b[34mbca59ebd-ea32-480e-b989-d18193466800\u001b[0m\n",
       "├── \u001b[37mFlow Method Step\u001b[0m\n",
       "├── \u001b[1;32m✅ Completed:\u001b[0m\u001b[1;32m step_one\u001b[0m\n",
       "├── \u001b[1;32m✅ Completed:\u001b[0m\u001b[1;32m step_two\u001b[0m\n",
       "└── \u001b[1;33m🔄 Running:\u001b[0m\u001b[1;33m final_step\u001b[0m\n"
      ]
     },
     "metadata": {},
     "output_type": "display_data"
    },
    {
     "data": {
      "text/html": [
       "<pre style=\"white-space:pre;overflow-x:auto;line-height:normal;font-family:Menlo,'DejaVu Sans Mono',consolas,'Courier New',monospace\">\n",
       "</pre>\n"
      ],
      "text/plain": [
       "\n"
      ]
     },
     "metadata": {},
     "output_type": "display_data"
    },
    {
     "name": "stdout",
     "output_type": "stream",
     "text": [
      "All conditions met. Continue to final step.\n"
     ]
    },
    {
     "data": {
      "text/html": [
       "<pre style=\"white-space:pre;overflow-x:auto;line-height:normal;font-family:Menlo,'DejaVu Sans Mono',consolas,'Courier New',monospace\"><span style=\"color: #000080; text-decoration-color: #000080; font-weight: bold\">🌊 Flow: </span><span style=\"color: #000080; text-decoration-color: #000080\">AndFlow</span>\n",
       "<span style=\"color: #c0c0c0; text-decoration-color: #c0c0c0\">    ID: </span><span style=\"color: #000080; text-decoration-color: #000080\">bca59ebd-ea32-480e-b989-d18193466800</span>\n",
       "├── <span style=\"color: #c0c0c0; text-decoration-color: #c0c0c0\">Flow Method Step</span>\n",
       "├── <span style=\"color: #008000; text-decoration-color: #008000; font-weight: bold\">✅ Completed: step_one</span>\n",
       "├── <span style=\"color: #008000; text-decoration-color: #008000; font-weight: bold\">✅ Completed: step_two</span>\n",
       "└── <span style=\"color: #008000; text-decoration-color: #008000; font-weight: bold\">✅ Completed: final_step</span>\n",
       "</pre>\n"
      ],
      "text/plain": [
       "\u001b[1;34m🌊 Flow: \u001b[0m\u001b[34mAndFlow\u001b[0m\n",
       "\u001b[37m    ID: \u001b[0m\u001b[34mbca59ebd-ea32-480e-b989-d18193466800\u001b[0m\n",
       "├── \u001b[37mFlow Method Step\u001b[0m\n",
       "├── \u001b[1;32m✅ Completed:\u001b[0m\u001b[1;32m step_one\u001b[0m\n",
       "├── \u001b[1;32m✅ Completed:\u001b[0m\u001b[1;32m step_two\u001b[0m\n",
       "└── \u001b[1;32m✅ Completed:\u001b[0m\u001b[1;32m final_step\u001b[0m\n"
      ]
     },
     "metadata": {},
     "output_type": "display_data"
    },
    {
     "data": {
      "text/html": [
       "<pre style=\"white-space:pre;overflow-x:auto;line-height:normal;font-family:Menlo,'DejaVu Sans Mono',consolas,'Courier New',monospace\">\n",
       "</pre>\n"
      ],
      "text/plain": [
       "\n"
      ]
     },
     "metadata": {},
     "output_type": "display_data"
    },
    {
     "data": {
      "text/html": [
       "<pre style=\"white-space:pre;overflow-x:auto;line-height:normal;font-family:Menlo,'DejaVu Sans Mono',consolas,'Courier New',monospace\"><span style=\"color: #008000; text-decoration-color: #008000; font-weight: bold\">✅ Flow Finished: </span><span style=\"color: #008000; text-decoration-color: #008000\">AndFlow</span>\n",
       "├── <span style=\"color: #c0c0c0; text-decoration-color: #c0c0c0\">Flow Method Step</span>\n",
       "├── <span style=\"color: #008000; text-decoration-color: #008000; font-weight: bold\">✅ Completed: step_one</span>\n",
       "├── <span style=\"color: #008000; text-decoration-color: #008000; font-weight: bold\">✅ Completed: step_two</span>\n",
       "└── <span style=\"color: #008000; text-decoration-color: #008000; font-weight: bold\">✅ Completed: final_step</span>\n",
       "</pre>\n"
      ],
      "text/plain": [
       "\u001b[1;32m✅ Flow Finished: \u001b[0m\u001b[32mAndFlow\u001b[0m\n",
       "├── \u001b[37mFlow Method Step\u001b[0m\n",
       "├── \u001b[1;32m✅ Completed:\u001b[0m\u001b[1;32m step_one\u001b[0m\n",
       "├── \u001b[1;32m✅ Completed:\u001b[0m\u001b[1;32m step_two\u001b[0m\n",
       "└── \u001b[1;32m✅ Completed:\u001b[0m\u001b[1;32m final_step\u001b[0m\n"
      ]
     },
     "metadata": {},
     "output_type": "display_data"
    },
    {
     "data": {
      "text/html": [
       "<pre style=\"white-space:pre;overflow-x:auto;line-height:normal;font-family:Menlo,'DejaVu Sans Mono',consolas,'Courier New',monospace\"><span style=\"color: #008000; text-decoration-color: #008000\">╭──────────────────────────────────────────────── Flow Completion ────────────────────────────────────────────────╮</span>\n",
       "<span style=\"color: #008000; text-decoration-color: #008000\">│</span>                                                                                                                 <span style=\"color: #008000; text-decoration-color: #008000\">│</span>\n",
       "<span style=\"color: #008000; text-decoration-color: #008000\">│</span>  <span style=\"color: #008000; text-decoration-color: #008000; font-weight: bold\">Flow Execution Completed</span>                                                                                       <span style=\"color: #008000; text-decoration-color: #008000\">│</span>\n",
       "<span style=\"color: #008000; text-decoration-color: #008000\">│</span>  <span style=\"color: #c0c0c0; text-decoration-color: #c0c0c0\">Name: </span><span style=\"color: #008000; text-decoration-color: #008000\">AndFlow</span>                                                                                                  <span style=\"color: #008000; text-decoration-color: #008000\">│</span>\n",
       "<span style=\"color: #008000; text-decoration-color: #008000\">│</span>  <span style=\"color: #c0c0c0; text-decoration-color: #c0c0c0\">ID: </span><span style=\"color: #008000; text-decoration-color: #008000\">bca59ebd-ea32-480e-b989-d18193466800</span>                                                                       <span style=\"color: #008000; text-decoration-color: #008000\">│</span>\n",
       "<span style=\"color: #008000; text-decoration-color: #008000\">│</span>                                                                                                                 <span style=\"color: #008000; text-decoration-color: #008000\">│</span>\n",
       "<span style=\"color: #008000; text-decoration-color: #008000\">│</span>                                                                                                                 <span style=\"color: #008000; text-decoration-color: #008000\">│</span>\n",
       "<span style=\"color: #008000; text-decoration-color: #008000\">╰─────────────────────────────────────────────────────────────────────────────────────────────────────────────────╯</span>\n",
       "</pre>\n"
      ],
      "text/plain": [
       "\u001b[32m╭─\u001b[0m\u001b[32m───────────────────────────────────────────────\u001b[0m\u001b[32m Flow Completion \u001b[0m\u001b[32m───────────────────────────────────────────────\u001b[0m\u001b[32m─╮\u001b[0m\n",
       "\u001b[32m│\u001b[0m                                                                                                                 \u001b[32m│\u001b[0m\n",
       "\u001b[32m│\u001b[0m  \u001b[1;32mFlow Execution Completed\u001b[0m                                                                                       \u001b[32m│\u001b[0m\n",
       "\u001b[32m│\u001b[0m  \u001b[37mName: \u001b[0m\u001b[32mAndFlow\u001b[0m                                                                                                  \u001b[32m│\u001b[0m\n",
       "\u001b[32m│\u001b[0m  \u001b[37mID: \u001b[0m\u001b[32mbca59ebd-ea32-480e-b989-d18193466800\u001b[0m                                                                       \u001b[32m│\u001b[0m\n",
       "\u001b[32m│\u001b[0m                                                                                                                 \u001b[32m│\u001b[0m\n",
       "\u001b[32m│\u001b[0m                                                                                                                 \u001b[32m│\u001b[0m\n",
       "\u001b[32m╰─────────────────────────────────────────────────────────────────────────────────────────────────────────────────╯\u001b[0m\n"
      ]
     },
     "metadata": {},
     "output_type": "display_data"
    },
    {
     "data": {
      "text/html": [
       "<pre style=\"white-space:pre;overflow-x:auto;line-height:normal;font-family:Menlo,'DejaVu Sans Mono',consolas,'Courier New',monospace\">\n",
       "</pre>\n"
      ],
      "text/plain": [
       "\n"
      ]
     },
     "metadata": {},
     "output_type": "display_data"
    }
   ],
   "source": [
    "from crewai.flow.flow import Flow, listen, and_, start\n",
    "\n",
    "class AndFlow(Flow):\n",
    "\n",
    "    @start()\n",
    "    def step_one(self):\n",
    "        print(\"Step 1: Collecting user input\")\n",
    "        return \"User data\"\n",
    "\n",
    "    @start()\n",
    "    def step_two(self):\n",
    "        print(\"Step 2: Validating input\")\n",
    "        return \"Validated data\"\n",
    "\n",
    "    @listen(and_(step_one, step_two))\n",
    "    def final_step(self):\n",
    "        print(\"All conditions met. Continue to final step.\")\n",
    "\n",
    "flow = AndFlow()\n",
    "await flow.kickoff_async()"
   ]
  },
  {
   "cell_type": "code",
   "execution_count": 5,
   "id": "1cca0a0a-c26e-48db-bc2d-e369c682504a",
   "metadata": {},
   "outputs": [
    {
     "data": {
      "text/html": [
       "<pre style=\"white-space:pre;overflow-x:auto;line-height:normal;font-family:Menlo,'DejaVu Sans Mono',consolas,'Courier New',monospace\"><span style=\"color: #000080; text-decoration-color: #000080\">╭──────────────────────────────────────────────── Flow Execution ─────────────────────────────────────────────────╮</span>\n",
       "<span style=\"color: #000080; text-decoration-color: #000080\">│</span>                                                                                                                 <span style=\"color: #000080; text-decoration-color: #000080\">│</span>\n",
       "<span style=\"color: #000080; text-decoration-color: #000080\">│</span>  <span style=\"color: #000080; text-decoration-color: #000080; font-weight: bold\">Starting Flow Execution</span>                                                                                        <span style=\"color: #000080; text-decoration-color: #000080\">│</span>\n",
       "<span style=\"color: #000080; text-decoration-color: #000080\">│</span>  <span style=\"color: #c0c0c0; text-decoration-color: #c0c0c0\">Name: </span><span style=\"color: #000080; text-decoration-color: #000080\">RouterFlow</span>                                                                                               <span style=\"color: #000080; text-decoration-color: #000080\">│</span>\n",
       "<span style=\"color: #000080; text-decoration-color: #000080\">│</span>  <span style=\"color: #c0c0c0; text-decoration-color: #c0c0c0\">ID: </span><span style=\"color: #000080; text-decoration-color: #000080\">8b5b0db1-31bb-4d82-8f9f-b9378cbf9f71</span>                                                                       <span style=\"color: #000080; text-decoration-color: #000080\">│</span>\n",
       "<span style=\"color: #000080; text-decoration-color: #000080\">│</span>                                                                                                                 <span style=\"color: #000080; text-decoration-color: #000080\">│</span>\n",
       "<span style=\"color: #000080; text-decoration-color: #000080\">│</span>                                                                                                                 <span style=\"color: #000080; text-decoration-color: #000080\">│</span>\n",
       "<span style=\"color: #000080; text-decoration-color: #000080\">╰─────────────────────────────────────────────────────────────────────────────────────────────────────────────────╯</span>\n",
       "</pre>\n"
      ],
      "text/plain": [
       "\u001b[34m╭─\u001b[0m\u001b[34m───────────────────────────────────────────────\u001b[0m\u001b[34m Flow Execution \u001b[0m\u001b[34m────────────────────────────────────────────────\u001b[0m\u001b[34m─╮\u001b[0m\n",
       "\u001b[34m│\u001b[0m                                                                                                                 \u001b[34m│\u001b[0m\n",
       "\u001b[34m│\u001b[0m  \u001b[1;34mStarting Flow Execution\u001b[0m                                                                                        \u001b[34m│\u001b[0m\n",
       "\u001b[34m│\u001b[0m  \u001b[37mName: \u001b[0m\u001b[34mRouterFlow\u001b[0m                                                                                               \u001b[34m│\u001b[0m\n",
       "\u001b[34m│\u001b[0m  \u001b[37mID: \u001b[0m\u001b[34m8b5b0db1-31bb-4d82-8f9f-b9378cbf9f71\u001b[0m                                                                       \u001b[34m│\u001b[0m\n",
       "\u001b[34m│\u001b[0m                                                                                                                 \u001b[34m│\u001b[0m\n",
       "\u001b[34m│\u001b[0m                                                                                                                 \u001b[34m│\u001b[0m\n",
       "\u001b[34m╰─────────────────────────────────────────────────────────────────────────────────────────────────────────────────╯\u001b[0m\n"
      ]
     },
     "metadata": {},
     "output_type": "display_data"
    },
    {
     "data": {
      "text/html": [
       "<pre style=\"white-space:pre;overflow-x:auto;line-height:normal;font-family:Menlo,'DejaVu Sans Mono',consolas,'Courier New',monospace\">\n",
       "</pre>\n"
      ],
      "text/plain": [
       "\n"
      ]
     },
     "metadata": {},
     "output_type": "display_data"
    },
    {
     "data": {
      "text/html": [
       "<pre style=\"white-space:pre;overflow-x:auto;line-height:normal;font-family:Menlo,'DejaVu Sans Mono',consolas,'Courier New',monospace\"><span style=\"color: #000080; text-decoration-color: #000080; font-weight: bold\">🌊 Flow: </span><span style=\"color: #000080; text-decoration-color: #000080\">RouterFlow</span>\n",
       "<span style=\"color: #c0c0c0; text-decoration-color: #c0c0c0\">    ID: </span><span style=\"color: #000080; text-decoration-color: #000080\">8b5b0db1-31bb-4d82-8f9f-b9378cbf9f71</span>\n",
       "└── <span style=\"color: #808000; text-decoration-color: #808000\">🧠 Starting Flow...</span>\n",
       "</pre>\n"
      ],
      "text/plain": [
       "\u001b[1;34m🌊 Flow: \u001b[0m\u001b[34mRouterFlow\u001b[0m\n",
       "\u001b[37m    ID: \u001b[0m\u001b[34m8b5b0db1-31bb-4d82-8f9f-b9378cbf9f71\u001b[0m\n",
       "└── \u001b[33m🧠 Starting Flow...\u001b[0m\n"
      ]
     },
     "metadata": {},
     "output_type": "display_data"
    },
    {
     "data": {
      "text/html": [
       "<pre style=\"white-space:pre;overflow-x:auto;line-height:normal;font-family:Menlo,'DejaVu Sans Mono',consolas,'Courier New',monospace\">\n",
       "</pre>\n"
      ],
      "text/plain": [
       "\n"
      ]
     },
     "metadata": {},
     "output_type": "display_data"
    },
    {
     "name": "stdout",
     "output_type": "stream",
     "text": [
      "\u001b[1m\u001b[35m Flow started with ID: 8b5b0db1-31bb-4d82-8f9f-b9378cbf9f71\u001b[00m\n"
     ]
    },
    {
     "data": {
      "text/html": [
       "<pre style=\"white-space:pre;overflow-x:auto;line-height:normal;font-family:Menlo,'DejaVu Sans Mono',consolas,'Courier New',monospace\"><span style=\"color: #000080; text-decoration-color: #000080; font-weight: bold\">🌊 Flow: </span><span style=\"color: #000080; text-decoration-color: #000080\">RouterFlow</span>\n",
       "<span style=\"color: #c0c0c0; text-decoration-color: #c0c0c0\">    ID: </span><span style=\"color: #000080; text-decoration-color: #000080\">8b5b0db1-31bb-4d82-8f9f-b9378cbf9f71</span>\n",
       "├── <span style=\"color: #808000; text-decoration-color: #808000\">🧠 Starting Flow...</span>\n",
       "└── <span style=\"color: #808000; text-decoration-color: #808000; font-weight: bold\">🔄 Running: classify_request</span>\n",
       "</pre>\n"
      ],
      "text/plain": [
       "\u001b[1;34m🌊 Flow: \u001b[0m\u001b[34mRouterFlow\u001b[0m\n",
       "\u001b[37m    ID: \u001b[0m\u001b[34m8b5b0db1-31bb-4d82-8f9f-b9378cbf9f71\u001b[0m\n",
       "├── \u001b[33m🧠 Starting Flow...\u001b[0m\n",
       "└── \u001b[1;33m🔄 Running:\u001b[0m\u001b[1;33m classify_request\u001b[0m\n"
      ]
     },
     "metadata": {},
     "output_type": "display_data"
    },
    {
     "data": {
      "text/html": [
       "<pre style=\"white-space:pre;overflow-x:auto;line-height:normal;font-family:Menlo,'DejaVu Sans Mono',consolas,'Courier New',monospace\">\n",
       "</pre>\n"
      ],
      "text/plain": [
       "\n"
      ]
     },
     "metadata": {},
     "output_type": "display_data"
    },
    {
     "name": "stdout",
     "output_type": "stream",
     "text": [
      "Request classified as: urgent\n"
     ]
    },
    {
     "data": {
      "text/html": [
       "<pre style=\"white-space:pre;overflow-x:auto;line-height:normal;font-family:Menlo,'DejaVu Sans Mono',consolas,'Courier New',monospace\"><span style=\"color: #000080; text-decoration-color: #000080; font-weight: bold\">🌊 Flow: </span><span style=\"color: #000080; text-decoration-color: #000080\">RouterFlow</span>\n",
       "<span style=\"color: #c0c0c0; text-decoration-color: #c0c0c0\">    ID: </span><span style=\"color: #000080; text-decoration-color: #000080\">8b5b0db1-31bb-4d82-8f9f-b9378cbf9f71</span>\n",
       "├── <span style=\"color: #c0c0c0; text-decoration-color: #c0c0c0\">Flow Method Step</span>\n",
       "└── <span style=\"color: #008000; text-decoration-color: #008000; font-weight: bold\">✅ Completed: classify_request</span>\n",
       "</pre>\n"
      ],
      "text/plain": [
       "\u001b[1;34m🌊 Flow: \u001b[0m\u001b[34mRouterFlow\u001b[0m\n",
       "\u001b[37m    ID: \u001b[0m\u001b[34m8b5b0db1-31bb-4d82-8f9f-b9378cbf9f71\u001b[0m\n",
       "├── \u001b[37mFlow Method Step\u001b[0m\n",
       "└── \u001b[1;32m✅ Completed:\u001b[0m\u001b[1;32m classify_request\u001b[0m\n"
      ]
     },
     "metadata": {},
     "output_type": "display_data"
    },
    {
     "data": {
      "text/html": [
       "<pre style=\"white-space:pre;overflow-x:auto;line-height:normal;font-family:Menlo,'DejaVu Sans Mono',consolas,'Courier New',monospace\">\n",
       "</pre>\n"
      ],
      "text/plain": [
       "\n"
      ]
     },
     "metadata": {},
     "output_type": "display_data"
    },
    {
     "data": {
      "text/html": [
       "<pre style=\"white-space:pre;overflow-x:auto;line-height:normal;font-family:Menlo,'DejaVu Sans Mono',consolas,'Courier New',monospace\"><span style=\"color: #000080; text-decoration-color: #000080; font-weight: bold\">🌊 Flow: </span><span style=\"color: #000080; text-decoration-color: #000080\">RouterFlow</span>\n",
       "<span style=\"color: #c0c0c0; text-decoration-color: #c0c0c0\">    ID: </span><span style=\"color: #000080; text-decoration-color: #000080\">8b5b0db1-31bb-4d82-8f9f-b9378cbf9f71</span>\n",
       "├── <span style=\"color: #c0c0c0; text-decoration-color: #c0c0c0\">Flow Method Step</span>\n",
       "├── <span style=\"color: #008000; text-decoration-color: #008000; font-weight: bold\">✅ Completed: classify_request</span>\n",
       "└── <span style=\"color: #808000; text-decoration-color: #808000; font-weight: bold\">🔄 Running: handle_request</span>\n",
       "</pre>\n"
      ],
      "text/plain": [
       "\u001b[1;34m🌊 Flow: \u001b[0m\u001b[34mRouterFlow\u001b[0m\n",
       "\u001b[37m    ID: \u001b[0m\u001b[34m8b5b0db1-31bb-4d82-8f9f-b9378cbf9f71\u001b[0m\n",
       "├── \u001b[37mFlow Method Step\u001b[0m\n",
       "├── \u001b[1;32m✅ Completed:\u001b[0m\u001b[1;32m classify_request\u001b[0m\n",
       "└── \u001b[1;33m🔄 Running:\u001b[0m\u001b[1;33m handle_request\u001b[0m\n"
      ]
     },
     "metadata": {},
     "output_type": "display_data"
    },
    {
     "data": {
      "text/html": [
       "<pre style=\"white-space:pre;overflow-x:auto;line-height:normal;font-family:Menlo,'DejaVu Sans Mono',consolas,'Courier New',monospace\">\n",
       "</pre>\n"
      ],
      "text/plain": [
       "\n"
      ]
     },
     "metadata": {},
     "output_type": "display_data"
    },
    {
     "data": {
      "text/html": [
       "<pre style=\"white-space:pre;overflow-x:auto;line-height:normal;font-family:Menlo,'DejaVu Sans Mono',consolas,'Courier New',monospace\"><span style=\"color: #000080; text-decoration-color: #000080; font-weight: bold\">🌊 Flow: </span><span style=\"color: #000080; text-decoration-color: #000080\">RouterFlow</span>\n",
       "<span style=\"color: #c0c0c0; text-decoration-color: #c0c0c0\">    ID: </span><span style=\"color: #000080; text-decoration-color: #000080\">8b5b0db1-31bb-4d82-8f9f-b9378cbf9f71</span>\n",
       "├── <span style=\"color: #c0c0c0; text-decoration-color: #c0c0c0\">Flow Method Step</span>\n",
       "├── <span style=\"color: #008000; text-decoration-color: #008000; font-weight: bold\">✅ Completed: classify_request</span>\n",
       "└── <span style=\"color: #008000; text-decoration-color: #008000; font-weight: bold\">✅ Completed: handle_request</span>\n",
       "</pre>\n"
      ],
      "text/plain": [
       "\u001b[1;34m🌊 Flow: \u001b[0m\u001b[34mRouterFlow\u001b[0m\n",
       "\u001b[37m    ID: \u001b[0m\u001b[34m8b5b0db1-31bb-4d82-8f9f-b9378cbf9f71\u001b[0m\n",
       "├── \u001b[37mFlow Method Step\u001b[0m\n",
       "├── \u001b[1;32m✅ Completed:\u001b[0m\u001b[1;32m classify_request\u001b[0m\n",
       "└── \u001b[1;32m✅ Completed:\u001b[0m\u001b[1;32m handle_request\u001b[0m\n"
      ]
     },
     "metadata": {},
     "output_type": "display_data"
    },
    {
     "data": {
      "text/html": [
       "<pre style=\"white-space:pre;overflow-x:auto;line-height:normal;font-family:Menlo,'DejaVu Sans Mono',consolas,'Courier New',monospace\">\n",
       "</pre>\n"
      ],
      "text/plain": [
       "\n"
      ]
     },
     "metadata": {},
     "output_type": "display_data"
    },
    {
     "data": {
      "text/html": [
       "<pre style=\"white-space:pre;overflow-x:auto;line-height:normal;font-family:Menlo,'DejaVu Sans Mono',consolas,'Courier New',monospace\"><span style=\"color: #000080; text-decoration-color: #000080; font-weight: bold\">🌊 Flow: </span><span style=\"color: #000080; text-decoration-color: #000080\">RouterFlow</span>\n",
       "<span style=\"color: #c0c0c0; text-decoration-color: #c0c0c0\">    ID: </span><span style=\"color: #000080; text-decoration-color: #000080\">8b5b0db1-31bb-4d82-8f9f-b9378cbf9f71</span>\n",
       "├── <span style=\"color: #c0c0c0; text-decoration-color: #c0c0c0\">Flow Method Step</span>\n",
       "├── <span style=\"color: #008000; text-decoration-color: #008000; font-weight: bold\">✅ Completed: classify_request</span>\n",
       "├── <span style=\"color: #008000; text-decoration-color: #008000; font-weight: bold\">✅ Completed: handle_request</span>\n",
       "└── <span style=\"color: #808000; text-decoration-color: #808000; font-weight: bold\">🔄 Running: urgent_handler</span>\n",
       "</pre>\n"
      ],
      "text/plain": [
       "\u001b[1;34m🌊 Flow: \u001b[0m\u001b[34mRouterFlow\u001b[0m\n",
       "\u001b[37m    ID: \u001b[0m\u001b[34m8b5b0db1-31bb-4d82-8f9f-b9378cbf9f71\u001b[0m\n",
       "├── \u001b[37mFlow Method Step\u001b[0m\n",
       "├── \u001b[1;32m✅ Completed:\u001b[0m\u001b[1;32m classify_request\u001b[0m\n",
       "├── \u001b[1;32m✅ Completed:\u001b[0m\u001b[1;32m handle_request\u001b[0m\n",
       "└── \u001b[1;33m🔄 Running:\u001b[0m\u001b[1;33m urgent_handler\u001b[0m\n"
      ]
     },
     "metadata": {},
     "output_type": "display_data"
    },
    {
     "data": {
      "text/html": [
       "<pre style=\"white-space:pre;overflow-x:auto;line-height:normal;font-family:Menlo,'DejaVu Sans Mono',consolas,'Courier New',monospace\">\n",
       "</pre>\n"
      ],
      "text/plain": [
       "\n"
      ]
     },
     "metadata": {},
     "output_type": "display_data"
    },
    {
     "name": "stdout",
     "output_type": "stream",
     "text": [
      "Handling urgent request\n"
     ]
    },
    {
     "data": {
      "text/html": [
       "<pre style=\"white-space:pre;overflow-x:auto;line-height:normal;font-family:Menlo,'DejaVu Sans Mono',consolas,'Courier New',monospace\"><span style=\"color: #000080; text-decoration-color: #000080; font-weight: bold\">🌊 Flow: </span><span style=\"color: #000080; text-decoration-color: #000080\">RouterFlow</span>\n",
       "<span style=\"color: #c0c0c0; text-decoration-color: #c0c0c0\">    ID: </span><span style=\"color: #000080; text-decoration-color: #000080\">8b5b0db1-31bb-4d82-8f9f-b9378cbf9f71</span>\n",
       "├── <span style=\"color: #c0c0c0; text-decoration-color: #c0c0c0\">Flow Method Step</span>\n",
       "├── <span style=\"color: #008000; text-decoration-color: #008000; font-weight: bold\">✅ Completed: classify_request</span>\n",
       "├── <span style=\"color: #008000; text-decoration-color: #008000; font-weight: bold\">✅ Completed: handle_request</span>\n",
       "└── <span style=\"color: #008000; text-decoration-color: #008000; font-weight: bold\">✅ Completed: urgent_handler</span>\n",
       "</pre>\n"
      ],
      "text/plain": [
       "\u001b[1;34m🌊 Flow: \u001b[0m\u001b[34mRouterFlow\u001b[0m\n",
       "\u001b[37m    ID: \u001b[0m\u001b[34m8b5b0db1-31bb-4d82-8f9f-b9378cbf9f71\u001b[0m\n",
       "├── \u001b[37mFlow Method Step\u001b[0m\n",
       "├── \u001b[1;32m✅ Completed:\u001b[0m\u001b[1;32m classify_request\u001b[0m\n",
       "├── \u001b[1;32m✅ Completed:\u001b[0m\u001b[1;32m handle_request\u001b[0m\n",
       "└── \u001b[1;32m✅ Completed:\u001b[0m\u001b[1;32m urgent_handler\u001b[0m\n"
      ]
     },
     "metadata": {},
     "output_type": "display_data"
    },
    {
     "data": {
      "text/html": [
       "<pre style=\"white-space:pre;overflow-x:auto;line-height:normal;font-family:Menlo,'DejaVu Sans Mono',consolas,'Courier New',monospace\">\n",
       "</pre>\n"
      ],
      "text/plain": [
       "\n"
      ]
     },
     "metadata": {},
     "output_type": "display_data"
    },
    {
     "data": {
      "text/html": [
       "<pre style=\"white-space:pre;overflow-x:auto;line-height:normal;font-family:Menlo,'DejaVu Sans Mono',consolas,'Courier New',monospace\"><span style=\"color: #008000; text-decoration-color: #008000; font-weight: bold\">✅ Flow Finished: </span><span style=\"color: #008000; text-decoration-color: #008000\">RouterFlow</span>\n",
       "├── <span style=\"color: #c0c0c0; text-decoration-color: #c0c0c0\">Flow Method Step</span>\n",
       "├── <span style=\"color: #008000; text-decoration-color: #008000; font-weight: bold\">✅ Completed: classify_request</span>\n",
       "├── <span style=\"color: #008000; text-decoration-color: #008000; font-weight: bold\">✅ Completed: handle_request</span>\n",
       "└── <span style=\"color: #008000; text-decoration-color: #008000; font-weight: bold\">✅ Completed: urgent_handler</span>\n",
       "</pre>\n"
      ],
      "text/plain": [
       "\u001b[1;32m✅ Flow Finished: \u001b[0m\u001b[32mRouterFlow\u001b[0m\n",
       "├── \u001b[37mFlow Method Step\u001b[0m\n",
       "├── \u001b[1;32m✅ Completed:\u001b[0m\u001b[1;32m classify_request\u001b[0m\n",
       "├── \u001b[1;32m✅ Completed:\u001b[0m\u001b[1;32m handle_request\u001b[0m\n",
       "└── \u001b[1;32m✅ Completed:\u001b[0m\u001b[1;32m urgent_handler\u001b[0m\n"
      ]
     },
     "metadata": {},
     "output_type": "display_data"
    },
    {
     "data": {
      "text/html": [
       "<pre style=\"white-space:pre;overflow-x:auto;line-height:normal;font-family:Menlo,'DejaVu Sans Mono',consolas,'Courier New',monospace\"><span style=\"color: #008000; text-decoration-color: #008000\">╭──────────────────────────────────────────────── Flow Completion ────────────────────────────────────────────────╮</span>\n",
       "<span style=\"color: #008000; text-decoration-color: #008000\">│</span>                                                                                                                 <span style=\"color: #008000; text-decoration-color: #008000\">│</span>\n",
       "<span style=\"color: #008000; text-decoration-color: #008000\">│</span>  <span style=\"color: #008000; text-decoration-color: #008000; font-weight: bold\">Flow Execution Completed</span>                                                                                       <span style=\"color: #008000; text-decoration-color: #008000\">│</span>\n",
       "<span style=\"color: #008000; text-decoration-color: #008000\">│</span>  <span style=\"color: #c0c0c0; text-decoration-color: #c0c0c0\">Name: </span><span style=\"color: #008000; text-decoration-color: #008000\">RouterFlow</span>                                                                                               <span style=\"color: #008000; text-decoration-color: #008000\">│</span>\n",
       "<span style=\"color: #008000; text-decoration-color: #008000\">│</span>  <span style=\"color: #c0c0c0; text-decoration-color: #c0c0c0\">ID: </span><span style=\"color: #008000; text-decoration-color: #008000\">8b5b0db1-31bb-4d82-8f9f-b9378cbf9f71</span>                                                                       <span style=\"color: #008000; text-decoration-color: #008000\">│</span>\n",
       "<span style=\"color: #008000; text-decoration-color: #008000\">│</span>                                                                                                                 <span style=\"color: #008000; text-decoration-color: #008000\">│</span>\n",
       "<span style=\"color: #008000; text-decoration-color: #008000\">│</span>                                                                                                                 <span style=\"color: #008000; text-decoration-color: #008000\">│</span>\n",
       "<span style=\"color: #008000; text-decoration-color: #008000\">╰─────────────────────────────────────────────────────────────────────────────────────────────────────────────────╯</span>\n",
       "</pre>\n"
      ],
      "text/plain": [
       "\u001b[32m╭─\u001b[0m\u001b[32m───────────────────────────────────────────────\u001b[0m\u001b[32m Flow Completion \u001b[0m\u001b[32m───────────────────────────────────────────────\u001b[0m\u001b[32m─╮\u001b[0m\n",
       "\u001b[32m│\u001b[0m                                                                                                                 \u001b[32m│\u001b[0m\n",
       "\u001b[32m│\u001b[0m  \u001b[1;32mFlow Execution Completed\u001b[0m                                                                                       \u001b[32m│\u001b[0m\n",
       "\u001b[32m│\u001b[0m  \u001b[37mName: \u001b[0m\u001b[32mRouterFlow\u001b[0m                                                                                               \u001b[32m│\u001b[0m\n",
       "\u001b[32m│\u001b[0m  \u001b[37mID: \u001b[0m\u001b[32m8b5b0db1-31bb-4d82-8f9f-b9378cbf9f71\u001b[0m                                                                       \u001b[32m│\u001b[0m\n",
       "\u001b[32m│\u001b[0m                                                                                                                 \u001b[32m│\u001b[0m\n",
       "\u001b[32m│\u001b[0m                                                                                                                 \u001b[32m│\u001b[0m\n",
       "\u001b[32m╰─────────────────────────────────────────────────────────────────────────────────────────────────────────────────╯\u001b[0m\n"
      ]
     },
     "metadata": {},
     "output_type": "display_data"
    },
    {
     "data": {
      "text/html": [
       "<pre style=\"white-space:pre;overflow-x:auto;line-height:normal;font-family:Menlo,'DejaVu Sans Mono',consolas,'Courier New',monospace\">\n",
       "</pre>\n"
      ],
      "text/plain": [
       "\n"
      ]
     },
     "metadata": {},
     "output_type": "display_data"
    }
   ],
   "source": [
    "import random\n",
    "from crewai.flow.flow import Flow, listen, router, start\n",
    "\n",
    "class RouterFlow(Flow):\n",
    "\n",
    "    @start()\n",
    "    def classify_request(self):\n",
    "        request_type = random.choice([\"urgent\", \"normal\"])\n",
    "        print(f\"Request classified as: {request_type}\")\n",
    "        return request_type\n",
    "\n",
    "    @router(classify_request)\n",
    "    def handle_request(self, classification):\n",
    "        return \"handle_urgent\" if classification == \"urgent\" else \"handle_normal\"\n",
    "\n",
    "    @listen(\"handle_urgent\")\n",
    "    def urgent_handler(self):\n",
    "        print(\"Handling urgent request\")\n",
    "\n",
    "    @listen(\"handle_normal\")\n",
    "    def normal_handler(self):\n",
    "        print(\"Handling normal request\")\n",
    "\n",
    "flow = RouterFlow()\n",
    "await flow.kickoff_async()\n"
   ]
  },
  {
   "cell_type": "markdown",
   "id": "92a91cf4-0f0f-41c1-a553-0496c57a3a3a",
   "metadata": {},
   "source": [
    "### State Management"
   ]
  },
  {
   "cell_type": "code",
   "execution_count": 6,
   "id": "bd38398d-6644-4523-94fa-5a2ae69b3fde",
   "metadata": {
    "scrolled": true
   },
   "outputs": [
    {
     "data": {
      "text/html": [
       "<pre style=\"white-space:pre;overflow-x:auto;line-height:normal;font-family:Menlo,'DejaVu Sans Mono',consolas,'Courier New',monospace\"><span style=\"color: #000080; text-decoration-color: #000080\">╭──────────────────────────────────────────────── Flow Execution ─────────────────────────────────────────────────╮</span>\n",
       "<span style=\"color: #000080; text-decoration-color: #000080\">│</span>                                                                                                                 <span style=\"color: #000080; text-decoration-color: #000080\">│</span>\n",
       "<span style=\"color: #000080; text-decoration-color: #000080\">│</span>  <span style=\"color: #000080; text-decoration-color: #000080; font-weight: bold\">Starting Flow Execution</span>                                                                                        <span style=\"color: #000080; text-decoration-color: #000080\">│</span>\n",
       "<span style=\"color: #000080; text-decoration-color: #000080\">│</span>  <span style=\"color: #c0c0c0; text-decoration-color: #c0c0c0\">Name: </span><span style=\"color: #000080; text-decoration-color: #000080\">StructuredStateFlow</span>                                                                                      <span style=\"color: #000080; text-decoration-color: #000080\">│</span>\n",
       "<span style=\"color: #000080; text-decoration-color: #000080\">│</span>  <span style=\"color: #c0c0c0; text-decoration-color: #c0c0c0\">ID: </span><span style=\"color: #000080; text-decoration-color: #000080\">c223133e-af34-4a9c-a694-01aace8a9cb9</span>                                                                       <span style=\"color: #000080; text-decoration-color: #000080\">│</span>\n",
       "<span style=\"color: #000080; text-decoration-color: #000080\">│</span>                                                                                                                 <span style=\"color: #000080; text-decoration-color: #000080\">│</span>\n",
       "<span style=\"color: #000080; text-decoration-color: #000080\">│</span>                                                                                                                 <span style=\"color: #000080; text-decoration-color: #000080\">│</span>\n",
       "<span style=\"color: #000080; text-decoration-color: #000080\">╰─────────────────────────────────────────────────────────────────────────────────────────────────────────────────╯</span>\n",
       "</pre>\n"
      ],
      "text/plain": [
       "\u001b[34m╭─\u001b[0m\u001b[34m───────────────────────────────────────────────\u001b[0m\u001b[34m Flow Execution \u001b[0m\u001b[34m────────────────────────────────────────────────\u001b[0m\u001b[34m─╮\u001b[0m\n",
       "\u001b[34m│\u001b[0m                                                                                                                 \u001b[34m│\u001b[0m\n",
       "\u001b[34m│\u001b[0m  \u001b[1;34mStarting Flow Execution\u001b[0m                                                                                        \u001b[34m│\u001b[0m\n",
       "\u001b[34m│\u001b[0m  \u001b[37mName: \u001b[0m\u001b[34mStructuredStateFlow\u001b[0m                                                                                      \u001b[34m│\u001b[0m\n",
       "\u001b[34m│\u001b[0m  \u001b[37mID: \u001b[0m\u001b[34mc223133e-af34-4a9c-a694-01aace8a9cb9\u001b[0m                                                                       \u001b[34m│\u001b[0m\n",
       "\u001b[34m│\u001b[0m                                                                                                                 \u001b[34m│\u001b[0m\n",
       "\u001b[34m│\u001b[0m                                                                                                                 \u001b[34m│\u001b[0m\n",
       "\u001b[34m╰─────────────────────────────────────────────────────────────────────────────────────────────────────────────────╯\u001b[0m\n"
      ]
     },
     "metadata": {},
     "output_type": "display_data"
    },
    {
     "data": {
      "text/html": [
       "<pre style=\"white-space:pre;overflow-x:auto;line-height:normal;font-family:Menlo,'DejaVu Sans Mono',consolas,'Courier New',monospace\">\n",
       "</pre>\n"
      ],
      "text/plain": [
       "\n"
      ]
     },
     "metadata": {},
     "output_type": "display_data"
    },
    {
     "data": {
      "text/html": [
       "<pre style=\"white-space:pre;overflow-x:auto;line-height:normal;font-family:Menlo,'DejaVu Sans Mono',consolas,'Courier New',monospace\"><span style=\"color: #000080; text-decoration-color: #000080; font-weight: bold\">🌊 Flow: </span><span style=\"color: #000080; text-decoration-color: #000080\">StructuredStateFlow</span>\n",
       "<span style=\"color: #c0c0c0; text-decoration-color: #c0c0c0\">    ID: </span><span style=\"color: #000080; text-decoration-color: #000080\">c223133e-af34-4a9c-a694-01aace8a9cb9</span>\n",
       "└── <span style=\"color: #808000; text-decoration-color: #808000\">🧠 Starting Flow...</span>\n",
       "</pre>\n"
      ],
      "text/plain": [
       "\u001b[1;34m🌊 Flow: \u001b[0m\u001b[34mStructuredStateFlow\u001b[0m\n",
       "\u001b[37m    ID: \u001b[0m\u001b[34mc223133e-af34-4a9c-a694-01aace8a9cb9\u001b[0m\n",
       "└── \u001b[33m🧠 Starting Flow...\u001b[0m\n"
      ]
     },
     "metadata": {},
     "output_type": "display_data"
    },
    {
     "data": {
      "text/html": [
       "<pre style=\"white-space:pre;overflow-x:auto;line-height:normal;font-family:Menlo,'DejaVu Sans Mono',consolas,'Courier New',monospace\">\n",
       "</pre>\n"
      ],
      "text/plain": [
       "\n"
      ]
     },
     "metadata": {},
     "output_type": "display_data"
    },
    {
     "name": "stdout",
     "output_type": "stream",
     "text": [
      "\u001b[1m\u001b[35m Flow started with ID: c223133e-af34-4a9c-a694-01aace8a9cb9\u001b[00m\n"
     ]
    },
    {
     "data": {
      "text/html": [
       "<pre style=\"white-space:pre;overflow-x:auto;line-height:normal;font-family:Menlo,'DejaVu Sans Mono',consolas,'Courier New',monospace\"><span style=\"color: #000080; text-decoration-color: #000080; font-weight: bold\">🌊 Flow: </span><span style=\"color: #000080; text-decoration-color: #000080\">StructuredStateFlow</span>\n",
       "<span style=\"color: #c0c0c0; text-decoration-color: #c0c0c0\">    ID: </span><span style=\"color: #000080; text-decoration-color: #000080\">c223133e-af34-4a9c-a694-01aace8a9cb9</span>\n",
       "├── <span style=\"color: #808000; text-decoration-color: #808000\">🧠 Starting Flow...</span>\n",
       "└── <span style=\"color: #808000; text-decoration-color: #808000; font-weight: bold\">🔄 Running: initialize_state</span>\n",
       "</pre>\n"
      ],
      "text/plain": [
       "\u001b[1;34m🌊 Flow: \u001b[0m\u001b[34mStructuredStateFlow\u001b[0m\n",
       "\u001b[37m    ID: \u001b[0m\u001b[34mc223133e-af34-4a9c-a694-01aace8a9cb9\u001b[0m\n",
       "├── \u001b[33m🧠 Starting Flow...\u001b[0m\n",
       "└── \u001b[1;33m🔄 Running:\u001b[0m\u001b[1;33m initialize_state\u001b[0m\n"
      ]
     },
     "metadata": {},
     "output_type": "display_data"
    },
    {
     "data": {
      "text/html": [
       "<pre style=\"white-space:pre;overflow-x:auto;line-height:normal;font-family:Menlo,'DejaVu Sans Mono',consolas,'Courier New',monospace\">\n",
       "</pre>\n"
      ],
      "text/plain": [
       "\n"
      ]
     },
     "metadata": {},
     "output_type": "display_data"
    },
    {
     "name": "stdout",
     "output_type": "stream",
     "text": [
      "Initial count: 0\n"
     ]
    },
    {
     "data": {
      "text/html": [
       "<pre style=\"white-space:pre;overflow-x:auto;line-height:normal;font-family:Menlo,'DejaVu Sans Mono',consolas,'Courier New',monospace\"><span style=\"color: #000080; text-decoration-color: #000080; font-weight: bold\">🌊 Flow: </span><span style=\"color: #000080; text-decoration-color: #000080\">StructuredStateFlow</span>\n",
       "<span style=\"color: #c0c0c0; text-decoration-color: #c0c0c0\">    ID: </span><span style=\"color: #000080; text-decoration-color: #000080\">c223133e-af34-4a9c-a694-01aace8a9cb9</span>\n",
       "├── <span style=\"color: #c0c0c0; text-decoration-color: #c0c0c0\">Flow Method Step</span>\n",
       "└── <span style=\"color: #008000; text-decoration-color: #008000; font-weight: bold\">✅ Completed: initialize_state</span>\n",
       "</pre>\n"
      ],
      "text/plain": [
       "\u001b[1;34m🌊 Flow: \u001b[0m\u001b[34mStructuredStateFlow\u001b[0m\n",
       "\u001b[37m    ID: \u001b[0m\u001b[34mc223133e-af34-4a9c-a694-01aace8a9cb9\u001b[0m\n",
       "├── \u001b[37mFlow Method Step\u001b[0m\n",
       "└── \u001b[1;32m✅ Completed:\u001b[0m\u001b[1;32m initialize_state\u001b[0m\n"
      ]
     },
     "metadata": {},
     "output_type": "display_data"
    },
    {
     "data": {
      "text/html": [
       "<pre style=\"white-space:pre;overflow-x:auto;line-height:normal;font-family:Menlo,'DejaVu Sans Mono',consolas,'Courier New',monospace\">\n",
       "</pre>\n"
      ],
      "text/plain": [
       "\n"
      ]
     },
     "metadata": {},
     "output_type": "display_data"
    },
    {
     "data": {
      "text/html": [
       "<pre style=\"white-space:pre;overflow-x:auto;line-height:normal;font-family:Menlo,'DejaVu Sans Mono',consolas,'Courier New',monospace\"><span style=\"color: #000080; text-decoration-color: #000080; font-weight: bold\">🌊 Flow: </span><span style=\"color: #000080; text-decoration-color: #000080\">StructuredStateFlow</span>\n",
       "<span style=\"color: #c0c0c0; text-decoration-color: #c0c0c0\">    ID: </span><span style=\"color: #000080; text-decoration-color: #000080\">c223133e-af34-4a9c-a694-01aace8a9cb9</span>\n",
       "├── <span style=\"color: #c0c0c0; text-decoration-color: #c0c0c0\">Flow Method Step</span>\n",
       "├── <span style=\"color: #008000; text-decoration-color: #008000; font-weight: bold\">✅ Completed: initialize_state</span>\n",
       "└── <span style=\"color: #808000; text-decoration-color: #808000; font-weight: bold\">🔄 Running: increment_count</span>\n",
       "</pre>\n"
      ],
      "text/plain": [
       "\u001b[1;34m🌊 Flow: \u001b[0m\u001b[34mStructuredStateFlow\u001b[0m\n",
       "\u001b[37m    ID: \u001b[0m\u001b[34mc223133e-af34-4a9c-a694-01aace8a9cb9\u001b[0m\n",
       "├── \u001b[37mFlow Method Step\u001b[0m\n",
       "├── \u001b[1;32m✅ Completed:\u001b[0m\u001b[1;32m initialize_state\u001b[0m\n",
       "└── \u001b[1;33m🔄 Running:\u001b[0m\u001b[1;33m increment_count\u001b[0m\n"
      ]
     },
     "metadata": {},
     "output_type": "display_data"
    },
    {
     "data": {
      "text/html": [
       "<pre style=\"white-space:pre;overflow-x:auto;line-height:normal;font-family:Menlo,'DejaVu Sans Mono',consolas,'Courier New',monospace\">\n",
       "</pre>\n"
      ],
      "text/plain": [
       "\n"
      ]
     },
     "metadata": {},
     "output_type": "display_data"
    },
    {
     "name": "stdout",
     "output_type": "stream",
     "text": [
      "Updated count: 2\n"
     ]
    },
    {
     "data": {
      "text/html": [
       "<pre style=\"white-space:pre;overflow-x:auto;line-height:normal;font-family:Menlo,'DejaVu Sans Mono',consolas,'Courier New',monospace\"><span style=\"color: #000080; text-decoration-color: #000080; font-weight: bold\">🌊 Flow: </span><span style=\"color: #000080; text-decoration-color: #000080\">StructuredStateFlow</span>\n",
       "<span style=\"color: #c0c0c0; text-decoration-color: #c0c0c0\">    ID: </span><span style=\"color: #000080; text-decoration-color: #000080\">c223133e-af34-4a9c-a694-01aace8a9cb9</span>\n",
       "├── <span style=\"color: #c0c0c0; text-decoration-color: #c0c0c0\">Flow Method Step</span>\n",
       "├── <span style=\"color: #008000; text-decoration-color: #008000; font-weight: bold\">✅ Completed: initialize_state</span>\n",
       "└── <span style=\"color: #008000; text-decoration-color: #008000; font-weight: bold\">✅ Completed: increment_count</span>\n",
       "</pre>\n"
      ],
      "text/plain": [
       "\u001b[1;34m🌊 Flow: \u001b[0m\u001b[34mStructuredStateFlow\u001b[0m\n",
       "\u001b[37m    ID: \u001b[0m\u001b[34mc223133e-af34-4a9c-a694-01aace8a9cb9\u001b[0m\n",
       "├── \u001b[37mFlow Method Step\u001b[0m\n",
       "├── \u001b[1;32m✅ Completed:\u001b[0m\u001b[1;32m initialize_state\u001b[0m\n",
       "└── \u001b[1;32m✅ Completed:\u001b[0m\u001b[1;32m increment_count\u001b[0m\n"
      ]
     },
     "metadata": {},
     "output_type": "display_data"
    },
    {
     "data": {
      "text/html": [
       "<pre style=\"white-space:pre;overflow-x:auto;line-height:normal;font-family:Menlo,'DejaVu Sans Mono',consolas,'Courier New',monospace\">\n",
       "</pre>\n"
      ],
      "text/plain": [
       "\n"
      ]
     },
     "metadata": {},
     "output_type": "display_data"
    },
    {
     "data": {
      "text/html": [
       "<pre style=\"white-space:pre;overflow-x:auto;line-height:normal;font-family:Menlo,'DejaVu Sans Mono',consolas,'Courier New',monospace\"><span style=\"color: #008000; text-decoration-color: #008000; font-weight: bold\">✅ Flow Finished: </span><span style=\"color: #008000; text-decoration-color: #008000\">StructuredStateFlow</span>\n",
       "├── <span style=\"color: #c0c0c0; text-decoration-color: #c0c0c0\">Flow Method Step</span>\n",
       "├── <span style=\"color: #008000; text-decoration-color: #008000; font-weight: bold\">✅ Completed: initialize_state</span>\n",
       "└── <span style=\"color: #008000; text-decoration-color: #008000; font-weight: bold\">✅ Completed: increment_count</span>\n",
       "</pre>\n"
      ],
      "text/plain": [
       "\u001b[1;32m✅ Flow Finished: \u001b[0m\u001b[32mStructuredStateFlow\u001b[0m\n",
       "├── \u001b[37mFlow Method Step\u001b[0m\n",
       "├── \u001b[1;32m✅ Completed:\u001b[0m\u001b[1;32m initialize_state\u001b[0m\n",
       "└── \u001b[1;32m✅ Completed:\u001b[0m\u001b[1;32m increment_count\u001b[0m\n"
      ]
     },
     "metadata": {},
     "output_type": "display_data"
    },
    {
     "data": {
      "text/html": [
       "<pre style=\"white-space:pre;overflow-x:auto;line-height:normal;font-family:Menlo,'DejaVu Sans Mono',consolas,'Courier New',monospace\"><span style=\"color: #008000; text-decoration-color: #008000\">╭──────────────────────────────────────────────── Flow Completion ────────────────────────────────────────────────╮</span>\n",
       "<span style=\"color: #008000; text-decoration-color: #008000\">│</span>                                                                                                                 <span style=\"color: #008000; text-decoration-color: #008000\">│</span>\n",
       "<span style=\"color: #008000; text-decoration-color: #008000\">│</span>  <span style=\"color: #008000; text-decoration-color: #008000; font-weight: bold\">Flow Execution Completed</span>                                                                                       <span style=\"color: #008000; text-decoration-color: #008000\">│</span>\n",
       "<span style=\"color: #008000; text-decoration-color: #008000\">│</span>  <span style=\"color: #c0c0c0; text-decoration-color: #c0c0c0\">Name: </span><span style=\"color: #008000; text-decoration-color: #008000\">StructuredStateFlow</span>                                                                                      <span style=\"color: #008000; text-decoration-color: #008000\">│</span>\n",
       "<span style=\"color: #008000; text-decoration-color: #008000\">│</span>  <span style=\"color: #c0c0c0; text-decoration-color: #c0c0c0\">ID: </span><span style=\"color: #008000; text-decoration-color: #008000\">c223133e-af34-4a9c-a694-01aace8a9cb9</span>                                                                       <span style=\"color: #008000; text-decoration-color: #008000\">│</span>\n",
       "<span style=\"color: #008000; text-decoration-color: #008000\">│</span>                                                                                                                 <span style=\"color: #008000; text-decoration-color: #008000\">│</span>\n",
       "<span style=\"color: #008000; text-decoration-color: #008000\">│</span>                                                                                                                 <span style=\"color: #008000; text-decoration-color: #008000\">│</span>\n",
       "<span style=\"color: #008000; text-decoration-color: #008000\">╰─────────────────────────────────────────────────────────────────────────────────────────────────────────────────╯</span>\n",
       "</pre>\n"
      ],
      "text/plain": [
       "\u001b[32m╭─\u001b[0m\u001b[32m───────────────────────────────────────────────\u001b[0m\u001b[32m Flow Completion \u001b[0m\u001b[32m───────────────────────────────────────────────\u001b[0m\u001b[32m─╮\u001b[0m\n",
       "\u001b[32m│\u001b[0m                                                                                                                 \u001b[32m│\u001b[0m\n",
       "\u001b[32m│\u001b[0m  \u001b[1;32mFlow Execution Completed\u001b[0m                                                                                       \u001b[32m│\u001b[0m\n",
       "\u001b[32m│\u001b[0m  \u001b[37mName: \u001b[0m\u001b[32mStructuredStateFlow\u001b[0m                                                                                      \u001b[32m│\u001b[0m\n",
       "\u001b[32m│\u001b[0m  \u001b[37mID: \u001b[0m\u001b[32mc223133e-af34-4a9c-a694-01aace8a9cb9\u001b[0m                                                                       \u001b[32m│\u001b[0m\n",
       "\u001b[32m│\u001b[0m                                                                                                                 \u001b[32m│\u001b[0m\n",
       "\u001b[32m│\u001b[0m                                                                                                                 \u001b[32m│\u001b[0m\n",
       "\u001b[32m╰─────────────────────────────────────────────────────────────────────────────────────────────────────────────────╯\u001b[0m\n"
      ]
     },
     "metadata": {},
     "output_type": "display_data"
    },
    {
     "data": {
      "text/html": [
       "<pre style=\"white-space:pre;overflow-x:auto;line-height:normal;font-family:Menlo,'DejaVu Sans Mono',consolas,'Courier New',monospace\">\n",
       "</pre>\n"
      ],
      "text/plain": [
       "\n"
      ]
     },
     "metadata": {},
     "output_type": "display_data"
    }
   ],
   "source": [
    "from crewai.flow.flow import Flow, listen, start\n",
    "from pydantic import BaseModel\n",
    "\n",
    "class CounterState(BaseModel):\n",
    "    count: int = 0\n",
    "\n",
    "class StructuredStateFlow(Flow[CounterState]):\n",
    "\n",
    "    @start()\n",
    "    def initialize_state(self):\n",
    "        print(f\"Initial count: {self.state.count}\")\n",
    "        self.state.count = 1\n",
    "\n",
    "    @listen(initialize_state)\n",
    "    def increment_count(self):\n",
    "        self.state.count += 1\n",
    "        print(f\"Updated count: {self.state.count}\")\n",
    "\n",
    "flow = StructuredStateFlow()\n",
    "await flow.kickoff_async()\n"
   ]
  },
  {
   "cell_type": "markdown",
   "id": "231c6400-9b8e-4a8e-a209-7c54d4a98693",
   "metadata": {},
   "source": [
    "# Social Media Content Planner Flow"
   ]
  },
  {
   "cell_type": "markdown",
   "id": "38323103-0556-4050-aa90-8f1a2dc55781",
   "metadata": {},
   "source": [
    "Buat .env file dengan nilai berikut\n",
    "\n",
    "- FIRECRAWL_API_KEY=\"fc-...\" (https://www.firecrawl.dev/i/api)\n",
    "- OPENAI_API_KEY=\"sk-...\"\n"
   ]
  },
  {
   "cell_type": "code",
   "execution_count": null,
   "id": "e5e236ea-d69d-47ef-9875-56a5c1958faa",
   "metadata": {},
   "outputs": [],
   "source": [
    "# !pip install crewai crewai-tools firecrawl-py"
   ]
  },
  {
   "cell_type": "code",
   "execution_count": 7,
   "id": "00a57abf-cb54-46a6-ba66-3d971b7bea06",
   "metadata": {},
   "outputs": [],
   "source": [
    "import os\n",
    "import uuid\n",
    "import yaml\n",
    "import json\n",
    "from pathlib import Path\n",
    "from pydantic import BaseModel\n",
    "from typing import Optional\n",
    "\n",
    "from firecrawl import FirecrawlApp\n",
    "\n",
    "from crewai import Agent, Task, Crew, LLM\n",
    "from crewai.flow.flow import Flow, listen, start, router, or_\n",
    "\n",
    "from dotenv import load_dotenv\n",
    "load_dotenv()\n",
    "\n",
    "import nest_asyncio\n",
    "nest_asyncio.apply()"
   ]
  },
  {
   "cell_type": "code",
   "execution_count": 8,
   "id": "1cef8ec6-4c31-4a29-a5b2-12470f4aa7a1",
   "metadata": {},
   "outputs": [],
   "source": [
    "llm = LLM(\n",
    "    model=\"gpt-4o\",\n",
    ")\n",
    "# Bisa pakai provider lain seperti Ollama, dll"
   ]
  },
  {
   "cell_type": "code",
   "execution_count": 9,
   "id": "abec480c-0ba2-4965-ab2f-3cf6365cc5d8",
   "metadata": {},
   "outputs": [],
   "source": [
    "blog_post_url = \"https://huggingface.co/blog/llama4-release\""
   ]
  },
  {
   "cell_type": "markdown",
   "id": "2c045142-862d-44e7-991c-33a4130b7ff6",
   "metadata": {},
   "source": [
    "Untuk twitter content\n",
    "\n",
    "- Setiap thread memiliki lebih dari satu tweet\n",
    "- Setiap tweet memiliki content dan media urls (optional)\n",
    "- Ada tweet yang akan menjadi hook / opening dari suatu tweet.\n",
    "\n",
    "\n",
    "Linkedin post\n",
    "\n",
    "- setiap postingan memiliki konten\n",
    "- setiap postingan memiliki satu buat image url utama untuk post"
   ]
  },
  {
   "cell_type": "code",
   "execution_count": 10,
   "id": "497c4184-7578-4f4b-9d19-0e6e744cd4a5",
   "metadata": {},
   "outputs": [],
   "source": [
    "from typing import List\n",
    "\n",
    "class Tweet(BaseModel):\n",
    "    content: str\n",
    "    is_hook: bool = False\n",
    "    media_urls: Optional[List[str]] = []\n",
    "\n",
    "class Thread(BaseModel):\n",
    "    topic: str\n",
    "    tweets: list[Tweet]\n",
    "\n",
    "class LinkedInPost(BaseModel):\n",
    "    content: str\n",
    "    media_url: str "
   ]
  },
  {
   "cell_type": "code",
   "execution_count": 22,
   "id": "d5ab6330-4718-4493-af49-d838db69e700",
   "metadata": {},
   "outputs": [],
   "source": [
    "from crewai_tools import (\n",
    "    DirectoryReadTool,\n",
    "    FileReadTool,\n",
    ")\n",
    "\n",
    "with open('config/planner_agents.yaml', 'r') as f:\n",
    "    agents_config = yaml.safe_load(f)\n",
    "\n",
    "with open('config/planner_tasks.yaml', 'r') as f:\n",
    "    tasks_config = yaml.safe_load(f)"
   ]
  },
  {
   "cell_type": "markdown",
   "id": "690fac0b-fff1-49b3-b6ef-5529c3d46c07",
   "metadata": {},
   "source": [
    "### Twitter Crew"
   ]
  },
  {
   "cell_type": "code",
   "execution_count": 23,
   "id": "38221b04-5ed4-485b-af38-fb7c8f0d0ec9",
   "metadata": {},
   "outputs": [],
   "source": [
    "\n",
    "draft_analyzer = Agent(config=agents_config['draft_analyzer'], tools=[\n",
    "    DirectoryReadTool(),\n",
    "    FileReadTool()\n",
    "], llm=llm)\n",
    "\n",
    "twitter_thread_planner = Agent(config=agents_config['twitter_thread_planner'], tools=[\n",
    "    DirectoryReadTool(),\n",
    "    FileReadTool()\n",
    "], llm=llm)\n",
    "\n",
    "analyze_draft = Task(\n",
    "  config=tasks_config['analyze_draft'],\n",
    "  agent=draft_analyzer\n",
    ")\n",
    "\n",
    "create_twitter_thread_plan = Task(\n",
    "  config=tasks_config['create_twitter_thread_plan'],\n",
    "  agent=twitter_thread_planner,\n",
    "  output_pydantic=Thread\n",
    ")\n",
    "\n",
    "twitter_planning_crew = Crew(\n",
    "    agents=[draft_analyzer, twitter_thread_planner],\n",
    "    tasks=[analyze_draft, create_twitter_thread_plan],\n",
    "    verbose=False\n",
    ")"
   ]
  },
  {
   "cell_type": "markdown",
   "id": "74f19be5-3ce3-4ee2-a20c-c5cd7ba5f093",
   "metadata": {},
   "source": [
    "### Linkedin Crew"
   ]
  },
  {
   "cell_type": "code",
   "execution_count": 24,
   "id": "e492b582-1fae-4e99-b044-b131d778e6ab",
   "metadata": {},
   "outputs": [],
   "source": [
    "linkedin_post_planner = Agent(config=agents_config['linkedin_post_planner'], tools=[\n",
    "    DirectoryReadTool(),\n",
    "    FileReadTool()\n",
    "    ], llm=llm)\n",
    "\n",
    "create_linkedin_post_plan = Task(\n",
    "  config=tasks_config['create_linkedin_post_plan'],\n",
    "  agent=linkedin_post_planner,\n",
    "  output_pydantic=LinkedInPost\n",
    ")\n",
    "\n",
    "linkedin_planning_crew = Crew(\n",
    "    agents=[draft_analyzer, linkedin_post_planner],\n",
    "    tasks=[analyze_draft, create_linkedin_post_plan],\n",
    "    verbose=False\n",
    ")"
   ]
  },
  {
   "cell_type": "markdown",
   "id": "9428be3d-50c3-4d18-91ff-11e2807e418a",
   "metadata": {},
   "source": [
    "### Defining State"
   ]
  },
  {
   "cell_type": "code",
   "execution_count": 14,
   "id": "e135dfb9-2606-4034-8dfe-dbb950a0a3a9",
   "metadata": {},
   "outputs": [],
   "source": [
    "class ContentPlanningState(BaseModel):\n",
    "    \"\"\"\n",
    "    State for the content planning flow\n",
    "    \"\"\"\n",
    "    blog_post_url: str = blog_post_url\n",
    "    draft_path: Path = \"assets/ \"\n",
    "    post_type: str = \"twitter\"\n",
    "    path_to_example_threads: str = \"assets/example_threads.txt\"\n",
    "    path_to_example_linkedin: str = \"assets/example_linkedin.txt\""
   ]
  },
  {
   "cell_type": "code",
   "execution_count": 15,
   "id": "3f4b887e-c86e-4489-9b56-1eb3b4244454",
   "metadata": {},
   "outputs": [],
   "source": [
    "class ContentPlanningFlow(Flow[ContentPlanningState]):\n",
    "    @start()\n",
    "    def scrape_blog_post(self):\n",
    "        print(f\"# fetching draft from: {self.state.blog_post_url}\")\n",
    "        app = FirecrawlApp(api_key=os.getenv(\"FIRECRAWL_API_KEY\"))\n",
    "        scrape_result = app.scrape_url(self.state.blog_post_url, formats=['markdown', 'html'])\n",
    "        try:\n",
    "          title = scrape_result.metadata[\"title\"]\n",
    "        except Exception as e:\n",
    "          title = str(uuid.uuid4())\n",
    "        self.state.draft_path = f'assets/{title}.md'\n",
    "        with open(self.state.draft_path, 'w') as f:\n",
    "          f.write(scrape_result.markdown)\n",
    "        return self.state\n",
    "\n",
    "    @router(scrape_blog_post)\n",
    "    def select_platform(self):\n",
    "        if self.state.post_type == \"twitter\":\n",
    "            return \"twitter\"\n",
    "        elif self.state.post_type == \"linkedin\":\n",
    "            return \"linkedin\"\n",
    "\n",
    "    @listen(\"twitter\")\n",
    "    def twitter_draft(self):\n",
    "        print(f\"# Planning content for: {self.state.draft_path}\")\n",
    "    \n",
    "        result = twitter_planning_crew.kickoff(\n",
    "            inputs={'draft_path': self.state.draft_path, \n",
    "                    'path_to_example_threads': self.state.path_to_example_threads}\n",
    "        )\n",
    "        \n",
    "        print(f\"# Planned content for {self.state.draft_path}:\")\n",
    "        \n",
    "        for i, tweet in enumerate(result.pydantic.tweets):\n",
    "            \n",
    "            print(f\"Tweet {i+1}:\")\n",
    "            print(f\"{tweet.content}\")\n",
    "            print(f\"Media URLs: {tweet.media_urls}\")\n",
    "    \n",
    "            print(\"-\"*100)\n",
    "        return result\n",
    "\n",
    "    @listen(\"linkedin\")\n",
    "    def linkedin_draft(self):\n",
    "        print(f\"# Planning content for: {self.state.draft_path}\")\n",
    "        result = linkedin_planning_crew.kickoff(\n",
    "            inputs={'draft_path': self.state.draft_path, \n",
    "                    'path_to_example_linkedin': self.state.path_to_example_linkedin}\n",
    "        )\n",
    "        print(f\"# Planned content for {self.state.draft_path}:\")\n",
    "        print(f\"{result.pydantic.content}\")\n",
    "        return result\n",
    "\n",
    "    @listen(or_(twitter_draft, linkedin_draft))\n",
    "    def save_plan(self, plan):\n",
    "        with open(f'output/{self.state.draft_path.split(\"/\")[-1]}_{self.state.post_type}.json', 'w') as f:\n",
    "            json.dump(plan.pydantic.model_dump(), f, indent=2)"
   ]
  },
  {
   "cell_type": "markdown",
   "id": "b64ca019-49fb-4bc3-b89a-68a0ed6d146d",
   "metadata": {},
   "source": [
    "### Run Flow"
   ]
  },
  {
   "cell_type": "code",
   "execution_count": 26,
   "id": "4f6926be-3ed6-4b44-a268-620e9a48f4c9",
   "metadata": {},
   "outputs": [
    {
     "data": {
      "text/html": [
       "<pre style=\"white-space:pre;overflow-x:auto;line-height:normal;font-family:Menlo,'DejaVu Sans Mono',consolas,'Courier New',monospace\"><span style=\"color: #000080; text-decoration-color: #000080\">╭──────────────────────────────────────────────── Flow Execution ─────────────────────────────────────────────────╮</span>\n",
       "<span style=\"color: #000080; text-decoration-color: #000080\">│</span>                                                                                                                 <span style=\"color: #000080; text-decoration-color: #000080\">│</span>\n",
       "<span style=\"color: #000080; text-decoration-color: #000080\">│</span>  <span style=\"color: #000080; text-decoration-color: #000080; font-weight: bold\">Starting Flow Execution</span>                                                                                        <span style=\"color: #000080; text-decoration-color: #000080\">│</span>\n",
       "<span style=\"color: #000080; text-decoration-color: #000080\">│</span>  <span style=\"color: #c0c0c0; text-decoration-color: #c0c0c0\">Name: </span><span style=\"color: #000080; text-decoration-color: #000080\">ContentPlanningFlow</span>                                                                                      <span style=\"color: #000080; text-decoration-color: #000080\">│</span>\n",
       "<span style=\"color: #000080; text-decoration-color: #000080\">│</span>  <span style=\"color: #c0c0c0; text-decoration-color: #c0c0c0\">ID: </span><span style=\"color: #000080; text-decoration-color: #000080\">083e86ee-98b2-4cf2-a0e1-d012db1fcc63</span>                                                                       <span style=\"color: #000080; text-decoration-color: #000080\">│</span>\n",
       "<span style=\"color: #000080; text-decoration-color: #000080\">│</span>                                                                                                                 <span style=\"color: #000080; text-decoration-color: #000080\">│</span>\n",
       "<span style=\"color: #000080; text-decoration-color: #000080\">│</span>                                                                                                                 <span style=\"color: #000080; text-decoration-color: #000080\">│</span>\n",
       "<span style=\"color: #000080; text-decoration-color: #000080\">╰─────────────────────────────────────────────────────────────────────────────────────────────────────────────────╯</span>\n",
       "</pre>\n"
      ],
      "text/plain": [
       "\u001b[34m╭─\u001b[0m\u001b[34m───────────────────────────────────────────────\u001b[0m\u001b[34m Flow Execution \u001b[0m\u001b[34m────────────────────────────────────────────────\u001b[0m\u001b[34m─╮\u001b[0m\n",
       "\u001b[34m│\u001b[0m                                                                                                                 \u001b[34m│\u001b[0m\n",
       "\u001b[34m│\u001b[0m  \u001b[1;34mStarting Flow Execution\u001b[0m                                                                                        \u001b[34m│\u001b[0m\n",
       "\u001b[34m│\u001b[0m  \u001b[37mName: \u001b[0m\u001b[34mContentPlanningFlow\u001b[0m                                                                                      \u001b[34m│\u001b[0m\n",
       "\u001b[34m│\u001b[0m  \u001b[37mID: \u001b[0m\u001b[34m083e86ee-98b2-4cf2-a0e1-d012db1fcc63\u001b[0m                                                                       \u001b[34m│\u001b[0m\n",
       "\u001b[34m│\u001b[0m                                                                                                                 \u001b[34m│\u001b[0m\n",
       "\u001b[34m│\u001b[0m                                                                                                                 \u001b[34m│\u001b[0m\n",
       "\u001b[34m╰─────────────────────────────────────────────────────────────────────────────────────────────────────────────────╯\u001b[0m\n"
      ]
     },
     "metadata": {},
     "output_type": "display_data"
    },
    {
     "data": {
      "text/html": [
       "<pre style=\"white-space:pre;overflow-x:auto;line-height:normal;font-family:Menlo,'DejaVu Sans Mono',consolas,'Courier New',monospace\">\n",
       "</pre>\n"
      ],
      "text/plain": [
       "\n"
      ]
     },
     "metadata": {},
     "output_type": "display_data"
    }
   ],
   "source": [
    "flow = ContentPlanningFlow()\n",
    "flow.state.post_type = \"linkedin\""
   ]
  },
  {
   "cell_type": "code",
   "execution_count": 27,
   "id": "a79d19aa-04bf-4b0b-a68f-c14a4b90257a",
   "metadata": {},
   "outputs": [
    {
     "name": "stdout",
     "output_type": "stream",
     "text": [
      "Plot saved as crewai_flow.html\n"
     ]
    }
   ],
   "source": [
    "flow.plot()"
   ]
  },
  {
   "cell_type": "code",
   "execution_count": 28,
   "id": "e0419494-79d6-4fdb-a2a3-23977ed74fc3",
   "metadata": {},
   "outputs": [
    {
     "data": {
      "text/plain": [
       "'linkedin'"
      ]
     },
     "execution_count": 28,
     "metadata": {},
     "output_type": "execute_result"
    }
   ],
   "source": [
    "flow.state.post_type"
   ]
  },
  {
   "cell_type": "code",
   "execution_count": 29,
   "id": "19ae7549-88db-449e-a11c-3197d673c3b8",
   "metadata": {},
   "outputs": [
    {
     "data": {
      "text/html": [
       "<pre style=\"white-space:pre;overflow-x:auto;line-height:normal;font-family:Menlo,'DejaVu Sans Mono',consolas,'Courier New',monospace\"><span style=\"color: #000080; text-decoration-color: #000080; font-weight: bold\">🌊 Flow: </span><span style=\"color: #000080; text-decoration-color: #000080\">ContentPlanningFlow</span>\n",
       "<span style=\"color: #c0c0c0; text-decoration-color: #c0c0c0\">    ID: </span><span style=\"color: #000080; text-decoration-color: #000080\">083e86ee-98b2-4cf2-a0e1-d012db1fcc63</span>\n",
       "└── <span style=\"color: #808000; text-decoration-color: #808000\">🧠 Starting Flow...</span>\n",
       "</pre>\n"
      ],
      "text/plain": [
       "\u001b[1;34m🌊 Flow: \u001b[0m\u001b[34mContentPlanningFlow\u001b[0m\n",
       "\u001b[37m    ID: \u001b[0m\u001b[34m083e86ee-98b2-4cf2-a0e1-d012db1fcc63\u001b[0m\n",
       "└── \u001b[33m🧠 Starting Flow...\u001b[0m\n"
      ]
     },
     "metadata": {},
     "output_type": "display_data"
    },
    {
     "data": {
      "text/html": [
       "<pre style=\"white-space:pre;overflow-x:auto;line-height:normal;font-family:Menlo,'DejaVu Sans Mono',consolas,'Courier New',monospace\">\n",
       "</pre>\n"
      ],
      "text/plain": [
       "\n"
      ]
     },
     "metadata": {},
     "output_type": "display_data"
    },
    {
     "name": "stdout",
     "output_type": "stream",
     "text": [
      "\u001b[1m\u001b[35m Flow started with ID: 083e86ee-98b2-4cf2-a0e1-d012db1fcc63\u001b[00m\n"
     ]
    },
    {
     "data": {
      "text/html": [
       "<pre style=\"white-space:pre;overflow-x:auto;line-height:normal;font-family:Menlo,'DejaVu Sans Mono',consolas,'Courier New',monospace\"><span style=\"color: #000080; text-decoration-color: #000080; font-weight: bold\">🌊 Flow: </span><span style=\"color: #000080; text-decoration-color: #000080\">ContentPlanningFlow</span>\n",
       "<span style=\"color: #c0c0c0; text-decoration-color: #c0c0c0\">    ID: </span><span style=\"color: #000080; text-decoration-color: #000080\">083e86ee-98b2-4cf2-a0e1-d012db1fcc63</span>\n",
       "├── <span style=\"color: #808000; text-decoration-color: #808000\">🧠 Starting Flow...</span>\n",
       "└── <span style=\"color: #808000; text-decoration-color: #808000; font-weight: bold\">🔄 Running: scrape_blog_post</span>\n",
       "</pre>\n"
      ],
      "text/plain": [
       "\u001b[1;34m🌊 Flow: \u001b[0m\u001b[34mContentPlanningFlow\u001b[0m\n",
       "\u001b[37m    ID: \u001b[0m\u001b[34m083e86ee-98b2-4cf2-a0e1-d012db1fcc63\u001b[0m\n",
       "├── \u001b[33m🧠 Starting Flow...\u001b[0m\n",
       "└── \u001b[1;33m🔄 Running:\u001b[0m\u001b[1;33m scrape_blog_post\u001b[0m\n"
      ]
     },
     "metadata": {},
     "output_type": "display_data"
    },
    {
     "data": {
      "text/html": [
       "<pre style=\"white-space:pre;overflow-x:auto;line-height:normal;font-family:Menlo,'DejaVu Sans Mono',consolas,'Courier New',monospace\">\n",
       "</pre>\n"
      ],
      "text/plain": [
       "\n"
      ]
     },
     "metadata": {},
     "output_type": "display_data"
    },
    {
     "name": "stdout",
     "output_type": "stream",
     "text": [
      "# fetching draft from: https://huggingface.co/blog/llama4-release\n"
     ]
    },
    {
     "data": {
      "text/html": [
       "<pre style=\"white-space:pre;overflow-x:auto;line-height:normal;font-family:Menlo,'DejaVu Sans Mono',consolas,'Courier New',monospace\"><span style=\"color: #000080; text-decoration-color: #000080; font-weight: bold\">🌊 Flow: </span><span style=\"color: #000080; text-decoration-color: #000080\">ContentPlanningFlow</span>\n",
       "<span style=\"color: #c0c0c0; text-decoration-color: #c0c0c0\">    ID: </span><span style=\"color: #000080; text-decoration-color: #000080\">083e86ee-98b2-4cf2-a0e1-d012db1fcc63</span>\n",
       "├── <span style=\"color: #c0c0c0; text-decoration-color: #c0c0c0\">Flow Method Step</span>\n",
       "└── <span style=\"color: #008000; text-decoration-color: #008000; font-weight: bold\">✅ Completed: scrape_blog_post</span>\n",
       "</pre>\n"
      ],
      "text/plain": [
       "\u001b[1;34m🌊 Flow: \u001b[0m\u001b[34mContentPlanningFlow\u001b[0m\n",
       "\u001b[37m    ID: \u001b[0m\u001b[34m083e86ee-98b2-4cf2-a0e1-d012db1fcc63\u001b[0m\n",
       "├── \u001b[37mFlow Method Step\u001b[0m\n",
       "└── \u001b[1;32m✅ Completed:\u001b[0m\u001b[1;32m scrape_blog_post\u001b[0m\n"
      ]
     },
     "metadata": {},
     "output_type": "display_data"
    },
    {
     "data": {
      "text/html": [
       "<pre style=\"white-space:pre;overflow-x:auto;line-height:normal;font-family:Menlo,'DejaVu Sans Mono',consolas,'Courier New',monospace\">\n",
       "</pre>\n"
      ],
      "text/plain": [
       "\n"
      ]
     },
     "metadata": {},
     "output_type": "display_data"
    },
    {
     "data": {
      "text/html": [
       "<pre style=\"white-space:pre;overflow-x:auto;line-height:normal;font-family:Menlo,'DejaVu Sans Mono',consolas,'Courier New',monospace\"><span style=\"color: #000080; text-decoration-color: #000080; font-weight: bold\">🌊 Flow: </span><span style=\"color: #000080; text-decoration-color: #000080\">ContentPlanningFlow</span>\n",
       "<span style=\"color: #c0c0c0; text-decoration-color: #c0c0c0\">    ID: </span><span style=\"color: #000080; text-decoration-color: #000080\">083e86ee-98b2-4cf2-a0e1-d012db1fcc63</span>\n",
       "├── <span style=\"color: #c0c0c0; text-decoration-color: #c0c0c0\">Flow Method Step</span>\n",
       "├── <span style=\"color: #008000; text-decoration-color: #008000; font-weight: bold\">✅ Completed: scrape_blog_post</span>\n",
       "└── <span style=\"color: #808000; text-decoration-color: #808000; font-weight: bold\">🔄 Running: select_platform</span>\n",
       "</pre>\n"
      ],
      "text/plain": [
       "\u001b[1;34m🌊 Flow: \u001b[0m\u001b[34mContentPlanningFlow\u001b[0m\n",
       "\u001b[37m    ID: \u001b[0m\u001b[34m083e86ee-98b2-4cf2-a0e1-d012db1fcc63\u001b[0m\n",
       "├── \u001b[37mFlow Method Step\u001b[0m\n",
       "├── \u001b[1;32m✅ Completed:\u001b[0m\u001b[1;32m scrape_blog_post\u001b[0m\n",
       "└── \u001b[1;33m🔄 Running:\u001b[0m\u001b[1;33m select_platform\u001b[0m\n"
      ]
     },
     "metadata": {},
     "output_type": "display_data"
    },
    {
     "data": {
      "text/html": [
       "<pre style=\"white-space:pre;overflow-x:auto;line-height:normal;font-family:Menlo,'DejaVu Sans Mono',consolas,'Courier New',monospace\">\n",
       "</pre>\n"
      ],
      "text/plain": [
       "\n"
      ]
     },
     "metadata": {},
     "output_type": "display_data"
    },
    {
     "data": {
      "text/html": [
       "<pre style=\"white-space:pre;overflow-x:auto;line-height:normal;font-family:Menlo,'DejaVu Sans Mono',consolas,'Courier New',monospace\"><span style=\"color: #000080; text-decoration-color: #000080; font-weight: bold\">🌊 Flow: </span><span style=\"color: #000080; text-decoration-color: #000080\">ContentPlanningFlow</span>\n",
       "<span style=\"color: #c0c0c0; text-decoration-color: #c0c0c0\">    ID: </span><span style=\"color: #000080; text-decoration-color: #000080\">083e86ee-98b2-4cf2-a0e1-d012db1fcc63</span>\n",
       "├── <span style=\"color: #c0c0c0; text-decoration-color: #c0c0c0\">Flow Method Step</span>\n",
       "├── <span style=\"color: #008000; text-decoration-color: #008000; font-weight: bold\">✅ Completed: scrape_blog_post</span>\n",
       "└── <span style=\"color: #008000; text-decoration-color: #008000; font-weight: bold\">✅ Completed: select_platform</span>\n",
       "</pre>\n"
      ],
      "text/plain": [
       "\u001b[1;34m🌊 Flow: \u001b[0m\u001b[34mContentPlanningFlow\u001b[0m\n",
       "\u001b[37m    ID: \u001b[0m\u001b[34m083e86ee-98b2-4cf2-a0e1-d012db1fcc63\u001b[0m\n",
       "├── \u001b[37mFlow Method Step\u001b[0m\n",
       "├── \u001b[1;32m✅ Completed:\u001b[0m\u001b[1;32m scrape_blog_post\u001b[0m\n",
       "└── \u001b[1;32m✅ Completed:\u001b[0m\u001b[1;32m select_platform\u001b[0m\n"
      ]
     },
     "metadata": {},
     "output_type": "display_data"
    },
    {
     "data": {
      "text/html": [
       "<pre style=\"white-space:pre;overflow-x:auto;line-height:normal;font-family:Menlo,'DejaVu Sans Mono',consolas,'Courier New',monospace\">\n",
       "</pre>\n"
      ],
      "text/plain": [
       "\n"
      ]
     },
     "metadata": {},
     "output_type": "display_data"
    },
    {
     "data": {
      "text/html": [
       "<pre style=\"white-space:pre;overflow-x:auto;line-height:normal;font-family:Menlo,'DejaVu Sans Mono',consolas,'Courier New',monospace\"><span style=\"color: #000080; text-decoration-color: #000080; font-weight: bold\">🌊 Flow: </span><span style=\"color: #000080; text-decoration-color: #000080\">ContentPlanningFlow</span>\n",
       "<span style=\"color: #c0c0c0; text-decoration-color: #c0c0c0\">    ID: </span><span style=\"color: #000080; text-decoration-color: #000080\">083e86ee-98b2-4cf2-a0e1-d012db1fcc63</span>\n",
       "├── <span style=\"color: #c0c0c0; text-decoration-color: #c0c0c0\">Flow Method Step</span>\n",
       "├── <span style=\"color: #008000; text-decoration-color: #008000; font-weight: bold\">✅ Completed: scrape_blog_post</span>\n",
       "├── <span style=\"color: #008000; text-decoration-color: #008000; font-weight: bold\">✅ Completed: select_platform</span>\n",
       "└── <span style=\"color: #808000; text-decoration-color: #808000; font-weight: bold\">🔄 Running: linkedin_draft</span>\n",
       "</pre>\n"
      ],
      "text/plain": [
       "\u001b[1;34m🌊 Flow: \u001b[0m\u001b[34mContentPlanningFlow\u001b[0m\n",
       "\u001b[37m    ID: \u001b[0m\u001b[34m083e86ee-98b2-4cf2-a0e1-d012db1fcc63\u001b[0m\n",
       "├── \u001b[37mFlow Method Step\u001b[0m\n",
       "├── \u001b[1;32m✅ Completed:\u001b[0m\u001b[1;32m scrape_blog_post\u001b[0m\n",
       "├── \u001b[1;32m✅ Completed:\u001b[0m\u001b[1;32m select_platform\u001b[0m\n",
       "└── \u001b[1;33m🔄 Running:\u001b[0m\u001b[1;33m linkedin_draft\u001b[0m\n"
      ]
     },
     "metadata": {},
     "output_type": "display_data"
    },
    {
     "data": {
      "text/html": [
       "<pre style=\"white-space:pre;overflow-x:auto;line-height:normal;font-family:Menlo,'DejaVu Sans Mono',consolas,'Courier New',monospace\">\n",
       "</pre>\n"
      ],
      "text/plain": [
       "\n"
      ]
     },
     "metadata": {},
     "output_type": "display_data"
    },
    {
     "name": "stdout",
     "output_type": "stream",
     "text": [
      "# Planning content for: assets/Welcome Llama 4 Maverick & Scout on Hugging Face.md\n",
      "# Planned content for assets/Welcome Llama 4 Maverick & Scout on Hugging Face.md:\n",
      "🌟 Welcome Llama 4 Maverick & Scout on Hugging Face 🌟\n",
      "\n",
      "Revolutionizing the landscape of large language models, the Llama 4 series is here with its groundbreaking integration on the Hugging Face platform. This latest iteration by Meta, featuring models like Llama 4 Maverick and Llama 4 Scout, is not just an upgrade—it's a paradigm shift. \n",
      "\n",
      "🔍 **What's New in Llama 4?**\n",
      "Using the Mixture-of-Experts (MoE) architecture, the Llama 4 models excel in computational efficiency and multitasking abilities. These models enhance native multimodal capabilities, including advanced features like tensor-parallelism and quantization.\n",
      "\n",
      "⚙️ **Seamless Integration on Hugging Face**\n",
      "The arrival of Llama 4 on Hugging Face ensures you have access to robust support for transformers, TGI, and more. Developers can leverage features like Xet Storage for seamless data handling and enjoy unprecedented extended context through architecture improvements like NoPE layers.\n",
      "\n",
      "💡 **Key Benefits for Developers**\n",
      "Llama 4 is designed with developers in mind, offering easy integration into applications via the Hugging Face ecosystem. Explore enhanced performance and versatility across applications, thanks to extended context length handling ideal for processing longer texts.\n",
      "\n",
      "📈 **A New Benchmark for Performance**\n",
      "Don't just take our word for it—evaluation scores demonstrate Llama 4's superiority over previous models, achieving state-of-the-art results in various benchmarks.\n",
      "\n",
      "🔗 Want to dive deeper into Llama 4’s game-changing features? Read our full blog here: [Welcome Llama 4 Maverick & Scout on Hugging Face](#)\n",
      "\n",
      "#Llama4 #AI #LanguageModels #HuggingFace #MoE #Innovation\n"
     ]
    },
    {
     "data": {
      "text/html": [
       "<pre style=\"white-space:pre;overflow-x:auto;line-height:normal;font-family:Menlo,'DejaVu Sans Mono',consolas,'Courier New',monospace\"><span style=\"color: #000080; text-decoration-color: #000080; font-weight: bold\">🌊 Flow: </span><span style=\"color: #000080; text-decoration-color: #000080\">ContentPlanningFlow</span>\n",
       "<span style=\"color: #c0c0c0; text-decoration-color: #c0c0c0\">    ID: </span><span style=\"color: #000080; text-decoration-color: #000080\">083e86ee-98b2-4cf2-a0e1-d012db1fcc63</span>\n",
       "├── <span style=\"color: #c0c0c0; text-decoration-color: #c0c0c0\">Flow Method Step</span>\n",
       "├── <span style=\"color: #008000; text-decoration-color: #008000; font-weight: bold\">✅ Completed: scrape_blog_post</span>\n",
       "├── <span style=\"color: #008000; text-decoration-color: #008000; font-weight: bold\">✅ Completed: select_platform</span>\n",
       "└── <span style=\"color: #008000; text-decoration-color: #008000; font-weight: bold\">✅ Completed: linkedin_draft</span>\n",
       "</pre>\n"
      ],
      "text/plain": [
       "\u001b[1;34m🌊 Flow: \u001b[0m\u001b[34mContentPlanningFlow\u001b[0m\n",
       "\u001b[37m    ID: \u001b[0m\u001b[34m083e86ee-98b2-4cf2-a0e1-d012db1fcc63\u001b[0m\n",
       "├── \u001b[37mFlow Method Step\u001b[0m\n",
       "├── \u001b[1;32m✅ Completed:\u001b[0m\u001b[1;32m scrape_blog_post\u001b[0m\n",
       "├── \u001b[1;32m✅ Completed:\u001b[0m\u001b[1;32m select_platform\u001b[0m\n",
       "└── \u001b[1;32m✅ Completed:\u001b[0m\u001b[1;32m linkedin_draft\u001b[0m\n"
      ]
     },
     "metadata": {},
     "output_type": "display_data"
    },
    {
     "data": {
      "text/html": [
       "<pre style=\"white-space:pre;overflow-x:auto;line-height:normal;font-family:Menlo,'DejaVu Sans Mono',consolas,'Courier New',monospace\">\n",
       "</pre>\n"
      ],
      "text/plain": [
       "\n"
      ]
     },
     "metadata": {},
     "output_type": "display_data"
    },
    {
     "data": {
      "text/html": [
       "<pre style=\"white-space:pre;overflow-x:auto;line-height:normal;font-family:Menlo,'DejaVu Sans Mono',consolas,'Courier New',monospace\"><span style=\"color: #000080; text-decoration-color: #000080; font-weight: bold\">🌊 Flow: </span><span style=\"color: #000080; text-decoration-color: #000080\">ContentPlanningFlow</span>\n",
       "<span style=\"color: #c0c0c0; text-decoration-color: #c0c0c0\">    ID: </span><span style=\"color: #000080; text-decoration-color: #000080\">083e86ee-98b2-4cf2-a0e1-d012db1fcc63</span>\n",
       "├── <span style=\"color: #c0c0c0; text-decoration-color: #c0c0c0\">Flow Method Step</span>\n",
       "├── <span style=\"color: #008000; text-decoration-color: #008000; font-weight: bold\">✅ Completed: scrape_blog_post</span>\n",
       "├── <span style=\"color: #008000; text-decoration-color: #008000; font-weight: bold\">✅ Completed: select_platform</span>\n",
       "├── <span style=\"color: #008000; text-decoration-color: #008000; font-weight: bold\">✅ Completed: linkedin_draft</span>\n",
       "└── <span style=\"color: #808000; text-decoration-color: #808000; font-weight: bold\">🔄 Running: save_plan</span>\n",
       "</pre>\n"
      ],
      "text/plain": [
       "\u001b[1;34m🌊 Flow: \u001b[0m\u001b[34mContentPlanningFlow\u001b[0m\n",
       "\u001b[37m    ID: \u001b[0m\u001b[34m083e86ee-98b2-4cf2-a0e1-d012db1fcc63\u001b[0m\n",
       "├── \u001b[37mFlow Method Step\u001b[0m\n",
       "├── \u001b[1;32m✅ Completed:\u001b[0m\u001b[1;32m scrape_blog_post\u001b[0m\n",
       "├── \u001b[1;32m✅ Completed:\u001b[0m\u001b[1;32m select_platform\u001b[0m\n",
       "├── \u001b[1;32m✅ Completed:\u001b[0m\u001b[1;32m linkedin_draft\u001b[0m\n",
       "└── \u001b[1;33m🔄 Running:\u001b[0m\u001b[1;33m save_plan\u001b[0m\n"
      ]
     },
     "metadata": {},
     "output_type": "display_data"
    },
    {
     "data": {
      "text/html": [
       "<pre style=\"white-space:pre;overflow-x:auto;line-height:normal;font-family:Menlo,'DejaVu Sans Mono',consolas,'Courier New',monospace\">\n",
       "</pre>\n"
      ],
      "text/plain": [
       "\n"
      ]
     },
     "metadata": {},
     "output_type": "display_data"
    },
    {
     "data": {
      "text/html": [
       "<pre style=\"white-space:pre;overflow-x:auto;line-height:normal;font-family:Menlo,'DejaVu Sans Mono',consolas,'Courier New',monospace\"><span style=\"color: #000080; text-decoration-color: #000080; font-weight: bold\">🌊 Flow: </span><span style=\"color: #000080; text-decoration-color: #000080\">ContentPlanningFlow</span>\n",
       "<span style=\"color: #c0c0c0; text-decoration-color: #c0c0c0\">    ID: </span><span style=\"color: #000080; text-decoration-color: #000080\">083e86ee-98b2-4cf2-a0e1-d012db1fcc63</span>\n",
       "├── <span style=\"color: #c0c0c0; text-decoration-color: #c0c0c0\">Flow Method Step</span>\n",
       "├── <span style=\"color: #008000; text-decoration-color: #008000; font-weight: bold\">✅ Completed: scrape_blog_post</span>\n",
       "├── <span style=\"color: #008000; text-decoration-color: #008000; font-weight: bold\">✅ Completed: select_platform</span>\n",
       "├── <span style=\"color: #008000; text-decoration-color: #008000; font-weight: bold\">✅ Completed: linkedin_draft</span>\n",
       "└── <span style=\"color: #008000; text-decoration-color: #008000; font-weight: bold\">✅ Completed: save_plan</span>\n",
       "</pre>\n"
      ],
      "text/plain": [
       "\u001b[1;34m🌊 Flow: \u001b[0m\u001b[34mContentPlanningFlow\u001b[0m\n",
       "\u001b[37m    ID: \u001b[0m\u001b[34m083e86ee-98b2-4cf2-a0e1-d012db1fcc63\u001b[0m\n",
       "├── \u001b[37mFlow Method Step\u001b[0m\n",
       "├── \u001b[1;32m✅ Completed:\u001b[0m\u001b[1;32m scrape_blog_post\u001b[0m\n",
       "├── \u001b[1;32m✅ Completed:\u001b[0m\u001b[1;32m select_platform\u001b[0m\n",
       "├── \u001b[1;32m✅ Completed:\u001b[0m\u001b[1;32m linkedin_draft\u001b[0m\n",
       "└── \u001b[1;32m✅ Completed:\u001b[0m\u001b[1;32m save_plan\u001b[0m\n"
      ]
     },
     "metadata": {},
     "output_type": "display_data"
    },
    {
     "data": {
      "text/html": [
       "<pre style=\"white-space:pre;overflow-x:auto;line-height:normal;font-family:Menlo,'DejaVu Sans Mono',consolas,'Courier New',monospace\">\n",
       "</pre>\n"
      ],
      "text/plain": [
       "\n"
      ]
     },
     "metadata": {},
     "output_type": "display_data"
    },
    {
     "data": {
      "text/html": [
       "<pre style=\"white-space:pre;overflow-x:auto;line-height:normal;font-family:Menlo,'DejaVu Sans Mono',consolas,'Courier New',monospace\"><span style=\"color: #008000; text-decoration-color: #008000; font-weight: bold\">✅ Flow Finished: </span><span style=\"color: #008000; text-decoration-color: #008000\">ContentPlanningFlow</span>\n",
       "├── <span style=\"color: #c0c0c0; text-decoration-color: #c0c0c0\">Flow Method Step</span>\n",
       "├── <span style=\"color: #008000; text-decoration-color: #008000; font-weight: bold\">✅ Completed: scrape_blog_post</span>\n",
       "├── <span style=\"color: #008000; text-decoration-color: #008000; font-weight: bold\">✅ Completed: select_platform</span>\n",
       "├── <span style=\"color: #008000; text-decoration-color: #008000; font-weight: bold\">✅ Completed: linkedin_draft</span>\n",
       "└── <span style=\"color: #008000; text-decoration-color: #008000; font-weight: bold\">✅ Completed: save_plan</span>\n",
       "</pre>\n"
      ],
      "text/plain": [
       "\u001b[1;32m✅ Flow Finished: \u001b[0m\u001b[32mContentPlanningFlow\u001b[0m\n",
       "├── \u001b[37mFlow Method Step\u001b[0m\n",
       "├── \u001b[1;32m✅ Completed:\u001b[0m\u001b[1;32m scrape_blog_post\u001b[0m\n",
       "├── \u001b[1;32m✅ Completed:\u001b[0m\u001b[1;32m select_platform\u001b[0m\n",
       "├── \u001b[1;32m✅ Completed:\u001b[0m\u001b[1;32m linkedin_draft\u001b[0m\n",
       "└── \u001b[1;32m✅ Completed:\u001b[0m\u001b[1;32m save_plan\u001b[0m\n"
      ]
     },
     "metadata": {},
     "output_type": "display_data"
    }
   ],
   "source": [
    "flow.kickoff()"
   ]
  },
  {
   "cell_type": "code",
   "execution_count": 30,
   "id": "85ecdf92-8816-4868-bba7-86f2b7eeba9e",
   "metadata": {},
   "outputs": [
    {
     "data": {
      "text/html": [
       "<pre style=\"white-space:pre;overflow-x:auto;line-height:normal;font-family:Menlo,'DejaVu Sans Mono',consolas,'Courier New',monospace\"><span style=\"color: #000080; text-decoration-color: #000080; font-weight: bold\">🌊 Flow: </span><span style=\"color: #000080; text-decoration-color: #000080\">ContentPlanningFlow</span>\n",
       "<span style=\"color: #c0c0c0; text-decoration-color: #c0c0c0\">    ID: </span><span style=\"color: #000080; text-decoration-color: #000080\">083e86ee-98b2-4cf2-a0e1-d012db1fcc63</span>\n",
       "└── <span style=\"color: #808000; text-decoration-color: #808000\">🧠 Starting Flow...</span>\n",
       "</pre>\n"
      ],
      "text/plain": [
       "\u001b[1;34m🌊 Flow: \u001b[0m\u001b[34mContentPlanningFlow\u001b[0m\n",
       "\u001b[37m    ID: \u001b[0m\u001b[34m083e86ee-98b2-4cf2-a0e1-d012db1fcc63\u001b[0m\n",
       "└── \u001b[33m🧠 Starting Flow...\u001b[0m\n"
      ]
     },
     "metadata": {},
     "output_type": "display_data"
    },
    {
     "data": {
      "text/html": [
       "<pre style=\"white-space:pre;overflow-x:auto;line-height:normal;font-family:Menlo,'DejaVu Sans Mono',consolas,'Courier New',monospace\">\n",
       "</pre>\n"
      ],
      "text/plain": [
       "\n"
      ]
     },
     "metadata": {},
     "output_type": "display_data"
    },
    {
     "name": "stdout",
     "output_type": "stream",
     "text": [
      "\u001b[1m\u001b[35m Flow started with ID: 083e86ee-98b2-4cf2-a0e1-d012db1fcc63\u001b[00m\n"
     ]
    },
    {
     "data": {
      "text/html": [
       "<pre style=\"white-space:pre;overflow-x:auto;line-height:normal;font-family:Menlo,'DejaVu Sans Mono',consolas,'Courier New',monospace\"><span style=\"color: #000080; text-decoration-color: #000080; font-weight: bold\">🌊 Flow: </span><span style=\"color: #000080; text-decoration-color: #000080\">ContentPlanningFlow</span>\n",
       "<span style=\"color: #c0c0c0; text-decoration-color: #c0c0c0\">    ID: </span><span style=\"color: #000080; text-decoration-color: #000080\">083e86ee-98b2-4cf2-a0e1-d012db1fcc63</span>\n",
       "├── <span style=\"color: #808000; text-decoration-color: #808000\">🧠 Starting Flow...</span>\n",
       "└── <span style=\"color: #808000; text-decoration-color: #808000; font-weight: bold\">🔄 Running: scrape_blog_post</span>\n",
       "</pre>\n"
      ],
      "text/plain": [
       "\u001b[1;34m🌊 Flow: \u001b[0m\u001b[34mContentPlanningFlow\u001b[0m\n",
       "\u001b[37m    ID: \u001b[0m\u001b[34m083e86ee-98b2-4cf2-a0e1-d012db1fcc63\u001b[0m\n",
       "├── \u001b[33m🧠 Starting Flow...\u001b[0m\n",
       "└── \u001b[1;33m🔄 Running:\u001b[0m\u001b[1;33m scrape_blog_post\u001b[0m\n"
      ]
     },
     "metadata": {},
     "output_type": "display_data"
    },
    {
     "data": {
      "text/html": [
       "<pre style=\"white-space:pre;overflow-x:auto;line-height:normal;font-family:Menlo,'DejaVu Sans Mono',consolas,'Courier New',monospace\">\n",
       "</pre>\n"
      ],
      "text/plain": [
       "\n"
      ]
     },
     "metadata": {},
     "output_type": "display_data"
    },
    {
     "name": "stdout",
     "output_type": "stream",
     "text": [
      "# fetching draft from: https://huggingface.co/blog/llama4-release\n"
     ]
    },
    {
     "data": {
      "text/html": [
       "<pre style=\"white-space:pre;overflow-x:auto;line-height:normal;font-family:Menlo,'DejaVu Sans Mono',consolas,'Courier New',monospace\"><span style=\"color: #000080; text-decoration-color: #000080; font-weight: bold\">🌊 Flow: </span><span style=\"color: #000080; text-decoration-color: #000080\">ContentPlanningFlow</span>\n",
       "<span style=\"color: #c0c0c0; text-decoration-color: #c0c0c0\">    ID: </span><span style=\"color: #000080; text-decoration-color: #000080\">083e86ee-98b2-4cf2-a0e1-d012db1fcc63</span>\n",
       "├── <span style=\"color: #c0c0c0; text-decoration-color: #c0c0c0\">Flow Method Step</span>\n",
       "└── <span style=\"color: #008000; text-decoration-color: #008000; font-weight: bold\">✅ Completed: scrape_blog_post</span>\n",
       "</pre>\n"
      ],
      "text/plain": [
       "\u001b[1;34m🌊 Flow: \u001b[0m\u001b[34mContentPlanningFlow\u001b[0m\n",
       "\u001b[37m    ID: \u001b[0m\u001b[34m083e86ee-98b2-4cf2-a0e1-d012db1fcc63\u001b[0m\n",
       "├── \u001b[37mFlow Method Step\u001b[0m\n",
       "└── \u001b[1;32m✅ Completed:\u001b[0m\u001b[1;32m scrape_blog_post\u001b[0m\n"
      ]
     },
     "metadata": {},
     "output_type": "display_data"
    },
    {
     "data": {
      "text/html": [
       "<pre style=\"white-space:pre;overflow-x:auto;line-height:normal;font-family:Menlo,'DejaVu Sans Mono',consolas,'Courier New',monospace\">\n",
       "</pre>\n"
      ],
      "text/plain": [
       "\n"
      ]
     },
     "metadata": {},
     "output_type": "display_data"
    },
    {
     "data": {
      "text/html": [
       "<pre style=\"white-space:pre;overflow-x:auto;line-height:normal;font-family:Menlo,'DejaVu Sans Mono',consolas,'Courier New',monospace\"><span style=\"color: #000080; text-decoration-color: #000080; font-weight: bold\">🌊 Flow: </span><span style=\"color: #000080; text-decoration-color: #000080\">ContentPlanningFlow</span>\n",
       "<span style=\"color: #c0c0c0; text-decoration-color: #c0c0c0\">    ID: </span><span style=\"color: #000080; text-decoration-color: #000080\">083e86ee-98b2-4cf2-a0e1-d012db1fcc63</span>\n",
       "├── <span style=\"color: #c0c0c0; text-decoration-color: #c0c0c0\">Flow Method Step</span>\n",
       "├── <span style=\"color: #008000; text-decoration-color: #008000; font-weight: bold\">✅ Completed: scrape_blog_post</span>\n",
       "└── <span style=\"color: #808000; text-decoration-color: #808000; font-weight: bold\">🔄 Running: select_platform</span>\n",
       "</pre>\n"
      ],
      "text/plain": [
       "\u001b[1;34m🌊 Flow: \u001b[0m\u001b[34mContentPlanningFlow\u001b[0m\n",
       "\u001b[37m    ID: \u001b[0m\u001b[34m083e86ee-98b2-4cf2-a0e1-d012db1fcc63\u001b[0m\n",
       "├── \u001b[37mFlow Method Step\u001b[0m\n",
       "├── \u001b[1;32m✅ Completed:\u001b[0m\u001b[1;32m scrape_blog_post\u001b[0m\n",
       "└── \u001b[1;33m🔄 Running:\u001b[0m\u001b[1;33m select_platform\u001b[0m\n"
      ]
     },
     "metadata": {},
     "output_type": "display_data"
    },
    {
     "data": {
      "text/html": [
       "<pre style=\"white-space:pre;overflow-x:auto;line-height:normal;font-family:Menlo,'DejaVu Sans Mono',consolas,'Courier New',monospace\">\n",
       "</pre>\n"
      ],
      "text/plain": [
       "\n"
      ]
     },
     "metadata": {},
     "output_type": "display_data"
    },
    {
     "data": {
      "text/html": [
       "<pre style=\"white-space:pre;overflow-x:auto;line-height:normal;font-family:Menlo,'DejaVu Sans Mono',consolas,'Courier New',monospace\"><span style=\"color: #000080; text-decoration-color: #000080; font-weight: bold\">🌊 Flow: </span><span style=\"color: #000080; text-decoration-color: #000080\">ContentPlanningFlow</span>\n",
       "<span style=\"color: #c0c0c0; text-decoration-color: #c0c0c0\">    ID: </span><span style=\"color: #000080; text-decoration-color: #000080\">083e86ee-98b2-4cf2-a0e1-d012db1fcc63</span>\n",
       "├── <span style=\"color: #c0c0c0; text-decoration-color: #c0c0c0\">Flow Method Step</span>\n",
       "├── <span style=\"color: #008000; text-decoration-color: #008000; font-weight: bold\">✅ Completed: scrape_blog_post</span>\n",
       "└── <span style=\"color: #008000; text-decoration-color: #008000; font-weight: bold\">✅ Completed: select_platform</span>\n",
       "</pre>\n"
      ],
      "text/plain": [
       "\u001b[1;34m🌊 Flow: \u001b[0m\u001b[34mContentPlanningFlow\u001b[0m\n",
       "\u001b[37m    ID: \u001b[0m\u001b[34m083e86ee-98b2-4cf2-a0e1-d012db1fcc63\u001b[0m\n",
       "├── \u001b[37mFlow Method Step\u001b[0m\n",
       "├── \u001b[1;32m✅ Completed:\u001b[0m\u001b[1;32m scrape_blog_post\u001b[0m\n",
       "└── \u001b[1;32m✅ Completed:\u001b[0m\u001b[1;32m select_platform\u001b[0m\n"
      ]
     },
     "metadata": {},
     "output_type": "display_data"
    },
    {
     "data": {
      "text/html": [
       "<pre style=\"white-space:pre;overflow-x:auto;line-height:normal;font-family:Menlo,'DejaVu Sans Mono',consolas,'Courier New',monospace\">\n",
       "</pre>\n"
      ],
      "text/plain": [
       "\n"
      ]
     },
     "metadata": {},
     "output_type": "display_data"
    },
    {
     "data": {
      "text/html": [
       "<pre style=\"white-space:pre;overflow-x:auto;line-height:normal;font-family:Menlo,'DejaVu Sans Mono',consolas,'Courier New',monospace\"><span style=\"color: #000080; text-decoration-color: #000080; font-weight: bold\">🌊 Flow: </span><span style=\"color: #000080; text-decoration-color: #000080\">ContentPlanningFlow</span>\n",
       "<span style=\"color: #c0c0c0; text-decoration-color: #c0c0c0\">    ID: </span><span style=\"color: #000080; text-decoration-color: #000080\">083e86ee-98b2-4cf2-a0e1-d012db1fcc63</span>\n",
       "├── <span style=\"color: #c0c0c0; text-decoration-color: #c0c0c0\">Flow Method Step</span>\n",
       "├── <span style=\"color: #008000; text-decoration-color: #008000; font-weight: bold\">✅ Completed: scrape_blog_post</span>\n",
       "├── <span style=\"color: #008000; text-decoration-color: #008000; font-weight: bold\">✅ Completed: select_platform</span>\n",
       "└── <span style=\"color: #808000; text-decoration-color: #808000; font-weight: bold\">🔄 Running: twitter_draft</span>\n",
       "</pre>\n"
      ],
      "text/plain": [
       "\u001b[1;34m🌊 Flow: \u001b[0m\u001b[34mContentPlanningFlow\u001b[0m\n",
       "\u001b[37m    ID: \u001b[0m\u001b[34m083e86ee-98b2-4cf2-a0e1-d012db1fcc63\u001b[0m\n",
       "├── \u001b[37mFlow Method Step\u001b[0m\n",
       "├── \u001b[1;32m✅ Completed:\u001b[0m\u001b[1;32m scrape_blog_post\u001b[0m\n",
       "├── \u001b[1;32m✅ Completed:\u001b[0m\u001b[1;32m select_platform\u001b[0m\n",
       "└── \u001b[1;33m🔄 Running:\u001b[0m\u001b[1;33m twitter_draft\u001b[0m\n"
      ]
     },
     "metadata": {},
     "output_type": "display_data"
    },
    {
     "data": {
      "text/html": [
       "<pre style=\"white-space:pre;overflow-x:auto;line-height:normal;font-family:Menlo,'DejaVu Sans Mono',consolas,'Courier New',monospace\">\n",
       "</pre>\n"
      ],
      "text/plain": [
       "\n"
      ]
     },
     "metadata": {},
     "output_type": "display_data"
    },
    {
     "name": "stdout",
     "output_type": "stream",
     "text": [
      "# Planning content for: assets/Welcome Llama 4 Maverick & Scout on Hugging Face.md\n",
      "# Planned content for assets/Welcome Llama 4 Maverick & Scout on Hugging Face.md:\n",
      "Tweet 1:\n",
      "Welcome Llama 4 Maverick & Scout on Hugging Face 🦙🚀\n",
      "Media URLs: []\n",
      "----------------------------------------------------------------------------------------------------\n",
      "Tweet 2:\n",
      "Llama 4 models are here! These new AI powerhouses from Meta combine Multimodal capabilities with state-of-the-art architecture. Let's dive into what sets them apart 🤖💡\n",
      "Media URLs: []\n",
      "----------------------------------------------------------------------------------------------------\n",
      "Tweet 3:\n",
      "What's the core of Llama 4 Maverick & Scout? These models feature Mixture-of-Experts (MoE) architecture and native Multimodality, allowing them to handle text, image, and more!\n",
      "Media URLs: []\n",
      "----------------------------------------------------------------------------------------------------\n",
      "Tweet 4:\n",
      "Integration with Hugging Face brings numerous benefits: easy access via model checkpoints, seamless use with transformers, and support for quantization and temperature tuning.\n",
      "Media URLs: ['https://huggingface.co/blog/xet-on-the-hub']\n",
      "----------------------------------------------------------------------------------------------------\n",
      "Tweet 5:\n",
      "Innovative architecture choices like NoPE layers, Chunked attention, and iRoPE make Llama 4 incredibly efficient with long context capabilities.\n",
      "Media URLs: []\n",
      "----------------------------------------------------------------------------------------------------\n",
      "Tweet 6:\n",
      "Want to get Llama 4 up and running? Here's a code snippet for using Llama 4 models with the Hugging Face transformers library. Perfect for your next AI project! 🛠️🐍\n",
      "Media URLs: ['https://huggingface.co/datasets/huggingface/documentation-images/resolve/0052a70beed5bf71b92610a43a52df6d286cd5f3/diffusers/rabbit.jpg', 'https://huggingface.co/datasets/huggingface/documentation-images/resolve/main/datasets/cat_style_layout.png']\n",
      "----------------------------------------------------------------------------------------------------\n",
      "Tweet 7:\n",
      "Evaluation scores reveal Llama 4's prowess, outshining previous iterations in multiple benchmarks. These models are top performers in the AI field!\n",
      "Media URLs: []\n",
      "----------------------------------------------------------------------------------------------------\n",
      "Tweet 8:\n",
      "Llama 4 models redefine possibilities with their advanced features and Hugging Face integration, benefiting real-world applications from language to vision tasks.\n",
      "Media URLs: []\n",
      "----------------------------------------------------------------------------------------------------\n",
      "Tweet 9:\n",
      "A big thanks to the dedicated teams and individuals who made Llama 4 a reality. Their hard work is propelling AI innovation forward. 🙌👨‍💻👩‍💻\n",
      "Media URLs: []\n",
      "----------------------------------------------------------------------------------------------------\n",
      "Tweet 10:\n",
      "Intrigued by the capabilities of Llama 4 Maverick & Scout? Explore how these models can enhance your projects today by visiting the Hugging Face Hub!\n",
      "Media URLs: []\n",
      "----------------------------------------------------------------------------------------------------\n"
     ]
    },
    {
     "data": {
      "text/html": [
       "<pre style=\"white-space:pre;overflow-x:auto;line-height:normal;font-family:Menlo,'DejaVu Sans Mono',consolas,'Courier New',monospace\"><span style=\"color: #000080; text-decoration-color: #000080; font-weight: bold\">🌊 Flow: </span><span style=\"color: #000080; text-decoration-color: #000080\">ContentPlanningFlow</span>\n",
       "<span style=\"color: #c0c0c0; text-decoration-color: #c0c0c0\">    ID: </span><span style=\"color: #000080; text-decoration-color: #000080\">083e86ee-98b2-4cf2-a0e1-d012db1fcc63</span>\n",
       "├── <span style=\"color: #c0c0c0; text-decoration-color: #c0c0c0\">Flow Method Step</span>\n",
       "├── <span style=\"color: #008000; text-decoration-color: #008000; font-weight: bold\">✅ Completed: scrape_blog_post</span>\n",
       "├── <span style=\"color: #008000; text-decoration-color: #008000; font-weight: bold\">✅ Completed: select_platform</span>\n",
       "└── <span style=\"color: #008000; text-decoration-color: #008000; font-weight: bold\">✅ Completed: twitter_draft</span>\n",
       "</pre>\n"
      ],
      "text/plain": [
       "\u001b[1;34m🌊 Flow: \u001b[0m\u001b[34mContentPlanningFlow\u001b[0m\n",
       "\u001b[37m    ID: \u001b[0m\u001b[34m083e86ee-98b2-4cf2-a0e1-d012db1fcc63\u001b[0m\n",
       "├── \u001b[37mFlow Method Step\u001b[0m\n",
       "├── \u001b[1;32m✅ Completed:\u001b[0m\u001b[1;32m scrape_blog_post\u001b[0m\n",
       "├── \u001b[1;32m✅ Completed:\u001b[0m\u001b[1;32m select_platform\u001b[0m\n",
       "└── \u001b[1;32m✅ Completed:\u001b[0m\u001b[1;32m twitter_draft\u001b[0m\n"
      ]
     },
     "metadata": {},
     "output_type": "display_data"
    },
    {
     "data": {
      "text/html": [
       "<pre style=\"white-space:pre;overflow-x:auto;line-height:normal;font-family:Menlo,'DejaVu Sans Mono',consolas,'Courier New',monospace\">\n",
       "</pre>\n"
      ],
      "text/plain": [
       "\n"
      ]
     },
     "metadata": {},
     "output_type": "display_data"
    },
    {
     "data": {
      "text/html": [
       "<pre style=\"white-space:pre;overflow-x:auto;line-height:normal;font-family:Menlo,'DejaVu Sans Mono',consolas,'Courier New',monospace\"><span style=\"color: #000080; text-decoration-color: #000080; font-weight: bold\">🌊 Flow: </span><span style=\"color: #000080; text-decoration-color: #000080\">ContentPlanningFlow</span>\n",
       "<span style=\"color: #c0c0c0; text-decoration-color: #c0c0c0\">    ID: </span><span style=\"color: #000080; text-decoration-color: #000080\">083e86ee-98b2-4cf2-a0e1-d012db1fcc63</span>\n",
       "├── <span style=\"color: #c0c0c0; text-decoration-color: #c0c0c0\">Flow Method Step</span>\n",
       "├── <span style=\"color: #008000; text-decoration-color: #008000; font-weight: bold\">✅ Completed: scrape_blog_post</span>\n",
       "├── <span style=\"color: #008000; text-decoration-color: #008000; font-weight: bold\">✅ Completed: select_platform</span>\n",
       "├── <span style=\"color: #008000; text-decoration-color: #008000; font-weight: bold\">✅ Completed: twitter_draft</span>\n",
       "└── <span style=\"color: #808000; text-decoration-color: #808000; font-weight: bold\">🔄 Running: save_plan</span>\n",
       "</pre>\n"
      ],
      "text/plain": [
       "\u001b[1;34m🌊 Flow: \u001b[0m\u001b[34mContentPlanningFlow\u001b[0m\n",
       "\u001b[37m    ID: \u001b[0m\u001b[34m083e86ee-98b2-4cf2-a0e1-d012db1fcc63\u001b[0m\n",
       "├── \u001b[37mFlow Method Step\u001b[0m\n",
       "├── \u001b[1;32m✅ Completed:\u001b[0m\u001b[1;32m scrape_blog_post\u001b[0m\n",
       "├── \u001b[1;32m✅ Completed:\u001b[0m\u001b[1;32m select_platform\u001b[0m\n",
       "├── \u001b[1;32m✅ Completed:\u001b[0m\u001b[1;32m twitter_draft\u001b[0m\n",
       "└── \u001b[1;33m🔄 Running:\u001b[0m\u001b[1;33m save_plan\u001b[0m\n"
      ]
     },
     "metadata": {},
     "output_type": "display_data"
    },
    {
     "data": {
      "text/html": [
       "<pre style=\"white-space:pre;overflow-x:auto;line-height:normal;font-family:Menlo,'DejaVu Sans Mono',consolas,'Courier New',monospace\">\n",
       "</pre>\n"
      ],
      "text/plain": [
       "\n"
      ]
     },
     "metadata": {},
     "output_type": "display_data"
    },
    {
     "data": {
      "text/html": [
       "<pre style=\"white-space:pre;overflow-x:auto;line-height:normal;font-family:Menlo,'DejaVu Sans Mono',consolas,'Courier New',monospace\"><span style=\"color: #000080; text-decoration-color: #000080; font-weight: bold\">🌊 Flow: </span><span style=\"color: #000080; text-decoration-color: #000080\">ContentPlanningFlow</span>\n",
       "<span style=\"color: #c0c0c0; text-decoration-color: #c0c0c0\">    ID: </span><span style=\"color: #000080; text-decoration-color: #000080\">083e86ee-98b2-4cf2-a0e1-d012db1fcc63</span>\n",
       "├── <span style=\"color: #c0c0c0; text-decoration-color: #c0c0c0\">Flow Method Step</span>\n",
       "├── <span style=\"color: #008000; text-decoration-color: #008000; font-weight: bold\">✅ Completed: scrape_blog_post</span>\n",
       "├── <span style=\"color: #008000; text-decoration-color: #008000; font-weight: bold\">✅ Completed: select_platform</span>\n",
       "├── <span style=\"color: #008000; text-decoration-color: #008000; font-weight: bold\">✅ Completed: twitter_draft</span>\n",
       "└── <span style=\"color: #008000; text-decoration-color: #008000; font-weight: bold\">✅ Completed: save_plan</span>\n",
       "</pre>\n"
      ],
      "text/plain": [
       "\u001b[1;34m🌊 Flow: \u001b[0m\u001b[34mContentPlanningFlow\u001b[0m\n",
       "\u001b[37m    ID: \u001b[0m\u001b[34m083e86ee-98b2-4cf2-a0e1-d012db1fcc63\u001b[0m\n",
       "├── \u001b[37mFlow Method Step\u001b[0m\n",
       "├── \u001b[1;32m✅ Completed:\u001b[0m\u001b[1;32m scrape_blog_post\u001b[0m\n",
       "├── \u001b[1;32m✅ Completed:\u001b[0m\u001b[1;32m select_platform\u001b[0m\n",
       "├── \u001b[1;32m✅ Completed:\u001b[0m\u001b[1;32m twitter_draft\u001b[0m\n",
       "└── \u001b[1;32m✅ Completed:\u001b[0m\u001b[1;32m save_plan\u001b[0m\n"
      ]
     },
     "metadata": {},
     "output_type": "display_data"
    },
    {
     "data": {
      "text/html": [
       "<pre style=\"white-space:pre;overflow-x:auto;line-height:normal;font-family:Menlo,'DejaVu Sans Mono',consolas,'Courier New',monospace\">\n",
       "</pre>\n"
      ],
      "text/plain": [
       "\n"
      ]
     },
     "metadata": {},
     "output_type": "display_data"
    },
    {
     "data": {
      "text/html": [
       "<pre style=\"white-space:pre;overflow-x:auto;line-height:normal;font-family:Menlo,'DejaVu Sans Mono',consolas,'Courier New',monospace\"><span style=\"color: #008000; text-decoration-color: #008000; font-weight: bold\">✅ Flow Finished: </span><span style=\"color: #008000; text-decoration-color: #008000\">ContentPlanningFlow</span>\n",
       "├── <span style=\"color: #c0c0c0; text-decoration-color: #c0c0c0\">Flow Method Step</span>\n",
       "├── <span style=\"color: #008000; text-decoration-color: #008000; font-weight: bold\">✅ Completed: scrape_blog_post</span>\n",
       "├── <span style=\"color: #008000; text-decoration-color: #008000; font-weight: bold\">✅ Completed: select_platform</span>\n",
       "├── <span style=\"color: #008000; text-decoration-color: #008000; font-weight: bold\">✅ Completed: twitter_draft</span>\n",
       "└── <span style=\"color: #008000; text-decoration-color: #008000; font-weight: bold\">✅ Completed: save_plan</span>\n",
       "</pre>\n"
      ],
      "text/plain": [
       "\u001b[1;32m✅ Flow Finished: \u001b[0m\u001b[32mContentPlanningFlow\u001b[0m\n",
       "├── \u001b[37mFlow Method Step\u001b[0m\n",
       "├── \u001b[1;32m✅ Completed:\u001b[0m\u001b[1;32m scrape_blog_post\u001b[0m\n",
       "├── \u001b[1;32m✅ Completed:\u001b[0m\u001b[1;32m select_platform\u001b[0m\n",
       "├── \u001b[1;32m✅ Completed:\u001b[0m\u001b[1;32m twitter_draft\u001b[0m\n",
       "└── \u001b[1;32m✅ Completed:\u001b[0m\u001b[1;32m save_plan\u001b[0m\n"
      ]
     },
     "metadata": {},
     "output_type": "display_data"
    }
   ],
   "source": [
    "flow.state.post_type = \"twitter\"\n",
    "flow.kickoff()"
   ]
  },
  {
   "cell_type": "code",
   "execution_count": null,
   "id": "139a1071-4bf5-4a91-999b-bb9b7b30f528",
   "metadata": {},
   "outputs": [],
   "source": []
  }
 ],
 "metadata": {
  "kernelspec": {
   "display_name": "Python 3 (ipykernel)",
   "language": "python",
   "name": "python3"
  },
  "language_info": {
   "codemirror_mode": {
    "name": "ipython",
    "version": 3
   },
   "file_extension": ".py",
   "mimetype": "text/x-python",
   "name": "python",
   "nbconvert_exporter": "python",
   "pygments_lexer": "ipython3",
   "version": "3.12.7"
  }
 },
 "nbformat": 4,
 "nbformat_minor": 5
}
